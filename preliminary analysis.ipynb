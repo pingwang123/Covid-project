{
 "cells": [
  {
   "cell_type": "code",
   "execution_count": 5,
   "metadata": {},
   "outputs": [],
   "source": [
    "\n",
    "# Importing required libraries\n",
    "import pandas as pd\n",
    "import numpy as np\n",
    "import seaborn as sn\n",
    "import matplotlib as mpl\n",
    "import matplotlib.pyplot as plt\n",
    "import warnings\n",
    "warnings.filterwarnings('ignore')\n",
    "\n",
    "from sklearn.neighbors import KNeighborsClassifier\n",
    "from sklearn.model_selection import train_test_split\n",
    "from sklearn.preprocessing import StandardScaler\n"
   ]
  },
  {
   "cell_type": "code",
   "execution_count": 15,
   "metadata": {},
   "outputs": [
    {
     "data": {
      "text/html": [
       "<div>\n",
       "<style scoped>\n",
       "    .dataframe tbody tr th:only-of-type {\n",
       "        vertical-align: middle;\n",
       "    }\n",
       "\n",
       "    .dataframe tbody tr th {\n",
       "        vertical-align: top;\n",
       "    }\n",
       "\n",
       "    .dataframe thead th {\n",
       "        text-align: right;\n",
       "    }\n",
       "</style>\n",
       "<table border=\"1\" class=\"dataframe\">\n",
       "  <thead>\n",
       "    <tr style=\"text-align: right;\">\n",
       "      <th></th>\n",
       "      <th>date</th>\n",
       "      <th>state_id</th>\n",
       "      <th>policy_type</th>\n",
       "      <th>deathIncrease</th>\n",
       "      <th>positiveIncrease</th>\n",
       "      <th>negativeIncrease</th>\n",
       "      <th>hospitalizedIncrease</th>\n",
       "      <th>recovered</th>\n",
       "    </tr>\n",
       "  </thead>\n",
       "  <tbody>\n",
       "    <tr>\n",
       "      <th>0</th>\n",
       "      <td>20-Apr</td>\n",
       "      <td>AK</td>\n",
       "      <td>Shelter in Place</td>\n",
       "      <td>6</td>\n",
       "      <td>209</td>\n",
       "      <td>0</td>\n",
       "      <td>25</td>\n",
       "      <td>1855</td>\n",
       "    </tr>\n",
       "    <tr>\n",
       "      <th>1</th>\n",
       "      <td>NaN</td>\n",
       "      <td>AL</td>\n",
       "      <td>Shelter in Place</td>\n",
       "      <td>234</td>\n",
       "      <td>5587</td>\n",
       "      <td>71990</td>\n",
       "      <td>978</td>\n",
       "      <td>0</td>\n",
       "    </tr>\n",
       "    <tr>\n",
       "      <th>2</th>\n",
       "      <td>NaN</td>\n",
       "      <td>CA</td>\n",
       "      <td>Shelter in Place</td>\n",
       "      <td>1829</td>\n",
       "      <td>41435</td>\n",
       "      <td>-21772</td>\n",
       "      <td>0</td>\n",
       "      <td>0</td>\n",
       "    </tr>\n",
       "    <tr>\n",
       "      <th>3</th>\n",
       "      <td>NaN</td>\n",
       "      <td>CO</td>\n",
       "      <td>Mandate Face Mask Use By All Individuals In Pu...</td>\n",
       "      <td>97</td>\n",
       "      <td>1843</td>\n",
       "      <td>7273</td>\n",
       "      <td>259</td>\n",
       "      <td>0</td>\n",
       "    </tr>\n",
       "    <tr>\n",
       "      <th>4</th>\n",
       "      <td>NaN</td>\n",
       "      <td>NaN</td>\n",
       "      <td>Shelter in Place</td>\n",
       "      <td>439</td>\n",
       "      <td>7912</td>\n",
       "      <td>25884</td>\n",
       "      <td>1614</td>\n",
       "      <td>0</td>\n",
       "    </tr>\n",
       "  </tbody>\n",
       "</table>\n",
       "</div>"
      ],
      "text/plain": [
       "     date state_id                                        policy_type  \\\n",
       "0  20-Apr       AK                                   Shelter in Place   \n",
       "1     NaN       AL                                   Shelter in Place   \n",
       "2     NaN       CA                                   Shelter in Place   \n",
       "3     NaN       CO  Mandate Face Mask Use By All Individuals In Pu...   \n",
       "4     NaN      NaN                                   Shelter in Place   \n",
       "\n",
       "   deathIncrease  positiveIncrease  negativeIncrease  hospitalizedIncrease  \\\n",
       "0              6               209                 0                    25   \n",
       "1            234              5587             71990                   978   \n",
       "2           1829             41435            -21772                     0   \n",
       "3             97              1843              7273                   259   \n",
       "4            439              7912             25884                  1614   \n",
       "\n",
       "   recovered  \n",
       "0       1855  \n",
       "1          0  \n",
       "2          0  \n",
       "3          0  \n",
       "4          0  "
      ]
     },
     "execution_count": 15,
     "metadata": {},
     "output_type": "execute_result"
    }
   ],
   "source": [
    "# Load data into a dataframe\n",
    "dfCovid = pd.read_csv(\"new.csv\")\n",
    "dfCovid.head()\n",
    "#dfCovid.tail()"
   ]
  },
  {
   "cell_type": "code",
   "execution_count": 16,
   "metadata": {},
   "outputs": [
    {
     "data": {
      "text/plain": [
       "Text(0.5, 1.0, 'Distribution of number of increased monthly death cases')"
      ]
     },
     "execution_count": 16,
     "metadata": {},
     "output_type": "execute_result"
    },
    {
     "data": {
      "image/png": "[encoded data removed]",
      "text/plain": [
       "<Figure size 432x288 with 1 Axes>"
      ]
     },
     "metadata": {
      "needs_background": "light"
     },
     "output_type": "display_data"
    }
   ],
   "source": [
    "# distribution of deathIncrease \n",
    "import matplotlib.pyplot as plt\n",
    "import seaborn as sns\n",
    "\n",
    "ax = sns.distplot(dfCovid['deathIncrease'])\n",
    "\n",
    "\n",
    "#plt.hist(dfCovid['deathIncrease'], color = 'blue', edgecolor = 'black',bins = int(100)) \n",
    "\n",
    "plt.title('Distribution of number of increased monthly death cases')\n",
    "\n",
    "#plt.show()"
   ]
  },
  {
   "cell_type": "code",
   "execution_count": null,
   "metadata": {},
   "outputs": [],
   "source": []
  },
  {
   "cell_type": "code",
   "execution_count": null,
   "metadata": {},
   "outputs": [],
   "source": []
  },
  {
   "cell_type": "code",
   "execution_count": 17,
   "metadata": {},
   "outputs": [
    {
     "data": {
      "text/html": [
       "<div>\n",
       "<style scoped>\n",
       "    .dataframe tbody tr th:only-of-type {\n",
       "        vertical-align: middle;\n",
       "    }\n",
       "\n",
       "    .dataframe tbody tr th {\n",
       "        vertical-align: top;\n",
       "    }\n",
       "\n",
       "    .dataframe thead th {\n",
       "        text-align: right;\n",
       "    }\n",
       "</style>\n",
       "<table border=\"1\" class=\"dataframe\">\n",
       "  <thead>\n",
       "    <tr style=\"text-align: right;\">\n",
       "      <th></th>\n",
       "      <th>date</th>\n",
       "      <th>state_id</th>\n",
       "      <th>policy_type</th>\n",
       "      <th>deathIncrease</th>\n",
       "      <th>positiveIncrease</th>\n",
       "      <th>negativeIncrease</th>\n",
       "      <th>hospitalizedIncrease</th>\n",
       "      <th>recovered</th>\n",
       "      <th>policy</th>\n",
       "    </tr>\n",
       "  </thead>\n",
       "  <tbody>\n",
       "    <tr>\n",
       "      <th>206</th>\n",
       "      <td>NaN</td>\n",
       "      <td>LA</td>\n",
       "      <td>Mandate Face Mask Use By All Individuals In Pu...</td>\n",
       "      <td>561</td>\n",
       "      <td>18564</td>\n",
       "      <td>426550</td>\n",
       "      <td>0</td>\n",
       "      <td>4272655</td>\n",
       "      <td>0.0</td>\n",
       "    </tr>\n",
       "    <tr>\n",
       "      <th>207</th>\n",
       "      <td>NaN</td>\n",
       "      <td>ND</td>\n",
       "      <td>Mandate Face Mask Use By All Individuals In Pu...</td>\n",
       "      <td>102</td>\n",
       "      <td>10013</td>\n",
       "      <td>29701</td>\n",
       "      <td>305</td>\n",
       "      <td>404502</td>\n",
       "      <td>0.0</td>\n",
       "    </tr>\n",
       "    <tr>\n",
       "      <th>208</th>\n",
       "      <td>NaN</td>\n",
       "      <td>NE</td>\n",
       "      <td>Mandate Face Mask Use By All Individuals In Pu...</td>\n",
       "      <td>86</td>\n",
       "      <td>10998</td>\n",
       "      <td>83289</td>\n",
       "      <td>321</td>\n",
       "      <td>888466</td>\n",
       "      <td>0.0</td>\n",
       "    </tr>\n",
       "    <tr>\n",
       "      <th>209</th>\n",
       "      <td>NaN</td>\n",
       "      <td>VI</td>\n",
       "      <td>Mask Requirement</td>\n",
       "      <td>6</td>\n",
       "      <td>184</td>\n",
       "      <td>4143</td>\n",
       "      <td>0</td>\n",
       "      <td>34192</td>\n",
       "      <td>1.0</td>\n",
       "    </tr>\n",
       "    <tr>\n",
       "      <th>210</th>\n",
       "      <td>NaN</td>\n",
       "      <td>WY</td>\n",
       "      <td>Mandate Face Mask Use By All Individuals In Pu...</td>\n",
       "      <td>13</td>\n",
       "      <td>2106</td>\n",
       "      <td>22781</td>\n",
       "      <td>57</td>\n",
       "      <td>117718</td>\n",
       "      <td>0.0</td>\n",
       "    </tr>\n",
       "  </tbody>\n",
       "</table>\n",
       "</div>"
      ],
      "text/plain": [
       "    date state_id                                        policy_type  \\\n",
       "206  NaN       LA  Mandate Face Mask Use By All Individuals In Pu...   \n",
       "207  NaN       ND  Mandate Face Mask Use By All Individuals In Pu...   \n",
       "208  NaN       NE  Mandate Face Mask Use By All Individuals In Pu...   \n",
       "209  NaN       VI                                   Mask Requirement   \n",
       "210  NaN       WY  Mandate Face Mask Use By All Individuals In Pu...   \n",
       "\n",
       "     deathIncrease  positiveIncrease  negativeIncrease  hospitalizedIncrease  \\\n",
       "206            561             18564            426550                     0   \n",
       "207            102             10013             29701                   305   \n",
       "208             86             10998             83289                   321   \n",
       "209              6               184              4143                     0   \n",
       "210             13              2106             22781                    57   \n",
       "\n",
       "     recovered  policy  \n",
       "206    4272655     0.0  \n",
       "207     404502     0.0  \n",
       "208     888466     0.0  \n",
       "209      34192     1.0  \n",
       "210     117718     0.0  "
      ]
     },
     "execution_count": 17,
     "metadata": {},
     "output_type": "execute_result"
    }
   ],
   "source": [
    "# rename policy type \n",
    "\n",
    "dfCovid.loc[dfCovid['policy_type'] == 'Shelter in Place','policy'] = 2\n",
    "dfCovid.loc[dfCovid['policy_type'] == 'Mandate Face Mask Use By All Individuals In Public Spaces','policy'] = 3\n",
    "dfCovid.loc[dfCovid['policy_type'] == 'Mandate Face Mask Use By All Individuals In Public Facing Businesses','policy'] = 0\n",
    "dfCovid.loc[dfCovid['policy_type'] == 'Mask Requirement','policy'] = 1\n",
    "dfCovid.tail()"
   ]
  },
  {
   "cell_type": "code",
   "execution_count": 18,
   "metadata": {},
   "outputs": [
    {
     "data": {
      "text/plain": [
       "Text(0.5, 1.0, 'Number of increased monthly death cases with four policy types')"
      ]
     },
     "execution_count": 18,
     "metadata": {},
     "output_type": "execute_result"
    },
    {
     "data": {
      "image/png": "[encoded data removed]",
      "text/plain": [
       "<Figure size 432x288 with 1 Axes>"
      ]
     },
     "metadata": {
      "needs_background": "light"
     },
     "output_type": "display_data"
    }
   ],
   "source": [
    "\n",
    "\n",
    "ax = sns.boxplot(x='policy', y='deathIncrease', data=dfCovid, color='#99c2a2')\n",
    "ax.set_title('Number of increased monthly death cases with four policy types')\n"
   ]
  },
  {
   "cell_type": "code",
   "execution_count": 19,
   "metadata": {},
   "outputs": [
    {
     "data": {
      "text/plain": [
       "numpy.ndarray"
      ]
     },
     "execution_count": 19,
     "metadata": {},
     "output_type": "execute_result"
    }
   ],
   "source": [
    "# set independent and dependent variables\n",
    "\n",
    "features=dfCovid[['positiveIncrease','hospitalizedIncrease','recovered','policy']].values\n",
    "\n",
    "death=dfCovid['deathIncrease']\n",
    "\n",
    "type(features)\n",
    "#feature=features.reshape(-1,1)"
   ]
  },
  {
   "cell_type": "code",
   "execution_count": 20,
   "metadata": {},
   "outputs": [
    {
     "name": "stdout",
     "output_type": "stream",
     "text": [
      "0.46532191488081753\n",
      "0.9992156254294827\n"
     ]
    }
   ],
   "source": [
    "# train the data with Ridge Regression method\n",
    "\n",
    "from sklearn.linear_model import Ridge\n",
    "from sklearn.model_selection import RandomizedSearchCV\n",
    "from scipy.stats import uniform\n",
    "rr_model=Ridge()\n",
    "\n",
    "param_grid = {'alpha': uniform()}\n",
    "\n",
    "rrsearch=RandomizedSearchCV(estimator=rr_model, param_distributions=param_grid, n_iter=100,cv=5)\n",
    "rrsearch.fit(features, death)\n",
    "\n",
    "print(rrsearch.best_score_)\n",
    "print(rrsearch.best_estimator_.alpha)"
   ]
  },
  {
   "cell_type": "code",
   "execution_count": 22,
   "metadata": {},
   "outputs": [
    {
     "name": "stdout",
     "output_type": "stream",
     "text": [
      "0.46532095999282336\n",
      "0.993290307767296\n"
     ]
    }
   ],
   "source": [
    "from sklearn.linear_model import Lasso\n",
    "\n",
    "lr_model=Lasso()\n",
    "\n",
    "param_grid = {'alpha': uniform()}\n",
    "\n",
    "lrsearch=RandomizedSearchCV(estimator=rr_model, param_distributions=param_grid, n_iter=100,cv=5)\n",
    "lrsearch.fit(features, death)\n",
    "\n",
    "print(lrsearch.best_score_)\n",
    "print(lrsearch.best_estimator_.alpha)\n"
   ]
  },
  {
   "cell_type": "code",
   "execution_count": null,
   "metadata": {},
   "outputs": [],
   "source": []
  },
  {
   "cell_type": "code",
   "execution_count": null,
   "metadata": {},
   "outputs": [],
   "source": []
  },
  {
   "cell_type": "code",
   "execution_count": null,
   "metadata": {},
   "outputs": [],
   "source": []
  },
  {
   "cell_type": "code",
   "execution_count": null,
   "metadata": {},
   "outputs": [],
   "source": []
  },
  {
   "cell_type": "code",
   "execution_count": null,
   "metadata": {},
   "outputs": [],
   "source": []
  },
  {
   "cell_type": "code",
   "execution_count": null,
   "metadata": {},
   "outputs": [],
   "source": []
  },
  {
   "cell_type": "code",
   "execution_count": null,
   "metadata": {},
   "outputs": [],
   "source": []
  },
  {
   "cell_type": "code",
   "execution_count": null,
   "metadata": {},
   "outputs": [],
   "source": []
  },
  {
   "cell_type": "code",
   "execution_count": 61,
   "metadata": {
    "scrolled": true
   },
   "outputs": [
    {
     "data": {
      "text/html": [
       "<div>\n",
       "<style scoped>\n",
       "    .dataframe tbody tr th:only-of-type {\n",
       "        vertical-align: middle;\n",
       "    }\n",
       "\n",
       "    .dataframe tbody tr th {\n",
       "        vertical-align: top;\n",
       "    }\n",
       "\n",
       "    .dataframe thead th {\n",
       "        text-align: right;\n",
       "    }\n",
       "</style>\n",
       "<table border=\"1\" class=\"dataframe\">\n",
       "  <thead>\n",
       "    <tr style=\"text-align: right;\">\n",
       "      <th></th>\n",
       "      <th>date_x</th>\n",
       "      <th>state_id</th>\n",
       "      <th>policy_type_x</th>\n",
       "      <th>deathIncrease</th>\n",
       "      <th>positiveIncrease</th>\n",
       "      <th>negativeIncrease</th>\n",
       "      <th>hospitalizedIncrease</th>\n",
       "      <th>recovered</th>\n",
       "      <th>policy</th>\n",
       "    </tr>\n",
       "  </thead>\n",
       "  <tbody>\n",
       "    <tr>\n",
       "      <th>0</th>\n",
       "      <td>Apr-20</td>\n",
       "      <td>AK</td>\n",
       "      <td>Shelter in Place</td>\n",
       "      <td>6</td>\n",
       "      <td>209</td>\n",
       "      <td>0</td>\n",
       "      <td>25</td>\n",
       "      <td>1855</td>\n",
       "      <td>4.0</td>\n",
       "    </tr>\n",
       "    <tr>\n",
       "      <th>1</th>\n",
       "      <td>NaN</td>\n",
       "      <td>AL</td>\n",
       "      <td>Shelter in Place</td>\n",
       "      <td>234</td>\n",
       "      <td>5587</td>\n",
       "      <td>71990</td>\n",
       "      <td>978</td>\n",
       "      <td>0</td>\n",
       "      <td>4.0</td>\n",
       "    </tr>\n",
       "    <tr>\n",
       "      <th>2</th>\n",
       "      <td>NaN</td>\n",
       "      <td>CA</td>\n",
       "      <td>Shelter in Place</td>\n",
       "      <td>1829</td>\n",
       "      <td>41435</td>\n",
       "      <td>-21772</td>\n",
       "      <td>0</td>\n",
       "      <td>0</td>\n",
       "      <td>4.0</td>\n",
       "    </tr>\n",
       "    <tr>\n",
       "      <th>3</th>\n",
       "      <td>NaN</td>\n",
       "      <td>CO</td>\n",
       "      <td>Mandate Face Mask Use By All Individuals In Pu...</td>\n",
       "      <td>97</td>\n",
       "      <td>1843</td>\n",
       "      <td>7273</td>\n",
       "      <td>259</td>\n",
       "      <td>0</td>\n",
       "      <td>2.0</td>\n",
       "    </tr>\n",
       "    <tr>\n",
       "      <th>4</th>\n",
       "      <td>NaN</td>\n",
       "      <td>NaN</td>\n",
       "      <td>Shelter in Place</td>\n",
       "      <td>439</td>\n",
       "      <td>7912</td>\n",
       "      <td>25884</td>\n",
       "      <td>1614</td>\n",
       "      <td>0</td>\n",
       "      <td>4.0</td>\n",
       "    </tr>\n",
       "  </tbody>\n",
       "</table>\n",
       "</div>"
      ],
      "text/plain": [
       "   date_x state_id                                      policy_type_x  \\\n",
       "0  Apr-20       AK                                   Shelter in Place   \n",
       "1     NaN       AL                                   Shelter in Place   \n",
       "2     NaN       CA                                   Shelter in Place   \n",
       "3     NaN       CO  Mandate Face Mask Use By All Individuals In Pu...   \n",
       "4     NaN      NaN                                   Shelter in Place   \n",
       "\n",
       "   deathIncrease  positiveIncrease  negativeIncrease  hospitalizedIncrease  \\\n",
       "0              6               209                 0                    25   \n",
       "1            234              5587             71990                   978   \n",
       "2           1829             41435            -21772                     0   \n",
       "3             97              1843              7273                   259   \n",
       "4            439              7912             25884                  1614   \n",
       "\n",
       "   recovered  policy  \n",
       "0       1855     4.0  \n",
       "1          0     4.0  \n",
       "2          0     4.0  \n",
       "3          0     2.0  \n",
       "4          0     4.0  "
      ]
     },
     "execution_count": 61,
     "metadata": {},
     "output_type": "execute_result"
    }
   ],
   "source": [
    "dfCovid.head()"
   ]
  },
  {
   "cell_type": "code",
   "execution_count": 115,
   "metadata": {},
   "outputs": [],
   "source": [
    "\n",
    "\n",
    "\n",
    "X=dfCovid[['deathIncrease','positiveIncrease','hospitalizedIncrease','recovered']].values\n",
    "y=dfCovid[['policy']]"
   ]
  },
  {
   "cell_type": "code",
   "execution_count": 117,
   "metadata": {},
   "outputs": [
    {
     "name": "stdout",
     "output_type": "stream",
     "text": [
      "[0.5899999999999999, 0.6114285714285714, 0.6000000000000001, 0.6085714285714288, 0.6257142857142857, 0.6285714285714287, 0.6628571428571428, 0.6542857142857141, 0.6685714285714286, 0.6514285714285715, 0.6485714285714287, 0.6457142857142857, 0.6414285714285715, 0.6585714285714286, 0.6657142857142857, 0.65, 0.6571428571428571, 0.6471428571428572, 0.6442857142857144, 0.6614285714285715]\n"
     ]
    }
   ],
   "source": [
    "#check model accuracy for k in [1,20]\n",
    "from sklearn.neighbors import KNeighborsClassifier\n",
    "from sklearn.metrics import accuracy_score\n",
    "accuracy={}\n",
    "accuracy_list=[]\n",
    "for k in range(1,21):\n",
    "        knn= KNeighborsClassifier(n_neighbors=k)\n",
    "        scores={}\n",
    "        scores_list=[]\n",
    "        for i in range(1,11):\n",
    "                X_train, X_test, y_train, y_test = train_test_split(X, y, test_size=0.33)\n",
    "                knn.fit(X_train, y_train)\n",
    "                y_pred = knn.predict(X_test)\n",
    "                scores[i]=accuracy_score(y_test,y_pred)\n",
    "                scores_list.append(scores[i])\n",
    "        accuracy_avg=np.mean(scores_list)\n",
    "        accuracy[k]=accuracy_avg\n",
    "        accuracy_list.append(accuracy[k])\n",
    "print(accuracy_list)"
   ]
  },
  {
   "cell_type": "code",
   "execution_count": 132,
   "metadata": {},
   "outputs": [
    {
     "name": "stdout",
     "output_type": "stream",
     "text": [
      "[0.46511628 0.47619048 0.57142857 0.38095238 0.54761905]\n",
      "0.4882613510520487\n"
     ]
    }
   ],
   "source": [
    "# classification with logistic regression classifier\n",
    "from sklearn.linear_model import LogisticRegression\n",
    "logreg = LogisticRegression()\n",
    "#logreg.fit(X, y)\n",
    "\n",
    "\n",
    "from sklearn.model_selection import cross_val_score\n",
    "cur_score_lr = cross_val_score(logreg, X, y, cv=5)\n",
    "print(cur_score_lr)\n",
    "print(cur_score_lr.mean())\n"
   ]
  },
  {
   "cell_type": "code",
   "execution_count": 134,
   "metadata": {
    "scrolled": true
   },
   "outputs": [
    {
     "name": "stdout",
     "output_type": "stream",
     "text": [
      "[0.58139535 0.69047619 0.78571429 0.52380952 0.69047619]\n",
      "0.6543743078626798\n"
     ]
    }
   ],
   "source": [
    "# clssification with dicistion tree classifier\n",
    "from sklearn.tree import DecisionTreeClassifier\n",
    "dtf = DecisionTreeClassifier()\n",
    "cur_score_dtf = cross_val_score(dtf, X, y, cv=5)\n",
    "print(cur_score_dtf)\n",
    "print(cur_score_dtf.mean())\n"
   ]
  },
  {
   "cell_type": "code",
   "execution_count": 137,
   "metadata": {},
   "outputs": [
    {
     "name": "stdout",
     "output_type": "stream",
     "text": [
      "[0.51162791 0.52380952 0.26190476 0.19047619 0.35714286]\n",
      "0.36899224806201547\n"
     ]
    }
   ],
   "source": [
    "from sklearn.naive_bayes import GaussianNB\n",
    "gnb = GaussianNB()\n",
    "# gnb.fit(X_train, y_train)\n",
    "\n",
    "cur_score_gnb = cross_val_score(gnb, X, y, cv=5)\n",
    "print(cur_score_gnb)\n",
    "print(cur_score_gnb.mean())"
   ]
  },
  {
   "cell_type": "code",
   "execution_count": 139,
   "metadata": {},
   "outputs": [
    {
     "name": "stdout",
     "output_type": "stream",
     "text": [
      "[0.48837209 0.52380952 0.54761905 0.52380952 0.52380952]\n",
      "0.521483942414175\n"
     ]
    }
   ],
   "source": [
    "from sklearn.svm import SVC\n",
    "svm = SVC()\n",
    "cur_score_svm = cross_val_score(svm, X, y, cv=5)\n",
    "print(cur_score_svm)\n",
    "print(cur_score_svm.mean())"
   ]
  },
  {
   "cell_type": "code",
   "execution_count": 141,
   "metadata": {},
   "outputs": [
    {
     "name": "stdout",
     "output_type": "stream",
     "text": [
      "[0.51162791 0.54761905 0.57142857 0.47619048 0.52380952]\n",
      "0.5261351052048726\n"
     ]
    }
   ],
   "source": [
    "from sklearn.discriminant_analysis import LinearDiscriminantAnalysis\n",
    "lda = LinearDiscriminantAnalysis()\n",
    "\n",
    "cur_score_lda = cross_val_score(lda, X, y, cv=5)\n",
    "print(cur_score_lda)\n",
    "print(cur_score_lda.mean())"
   ]
  },
  {
   "cell_type": "code",
   "execution_count": null,
   "metadata": {},
   "outputs": [],
   "source": []
  },
  {
   "cell_type": "code",
   "execution_count": null,
   "metadata": {},
   "outputs": [],
   "source": []
  },
  {
   "cell_type": "code",
   "execution_count": null,
   "metadata": {},
   "outputs": [],
   "source": []
  },
  {
   "cell_type": "code",
   "execution_count": null,
   "metadata": {},
   "outputs": [],
   "source": []
  },
  {
   "cell_type": "code",
   "execution_count": 2,
   "metadata": {},
   "outputs": [
    {
     "data": {
      "text/html": [
       "<div>\n",
       "<style scoped>\n",
       "    .dataframe tbody tr th:only-of-type {\n",
       "        vertical-align: middle;\n",
       "    }\n",
       "\n",
       "    .dataframe tbody tr th {\n",
       "        vertical-align: top;\n",
       "    }\n",
       "\n",
       "    .dataframe thead th {\n",
       "        text-align: right;\n",
       "    }\n",
       "</style>\n",
       "<table border=\"1\" class=\"dataframe\">\n",
       "  <thead>\n",
       "    <tr style=\"text-align: right;\">\n",
       "      <th></th>\n",
       "      <th>CountryName</th>\n",
       "      <th>CountryCode</th>\n",
       "      <th>RegionName</th>\n",
       "      <th>RegionCode</th>\n",
       "      <th>Jurisdiction</th>\n",
       "      <th>Date</th>\n",
       "      <th>C1_School closing</th>\n",
       "      <th>C1_Flag</th>\n",
       "      <th>C1_Notes</th>\n",
       "      <th>C2_Workplace closing</th>\n",
       "      <th>...</th>\n",
       "      <th>StringencyLegacyIndex</th>\n",
       "      <th>StringencyLegacyIndexForDisplay</th>\n",
       "      <th>GovernmentResponseIndex</th>\n",
       "      <th>GovernmentResponseIndexForDisplay</th>\n",
       "      <th>ContainmentHealthIndex</th>\n",
       "      <th>ContainmentHealthIndexForDisplay</th>\n",
       "      <th>EconomicSupportIndex</th>\n",
       "      <th>EconomicSupportIndexForDisplay</th>\n",
       "      <th>date</th>\n",
       "      <th>deathIncrease</th>\n",
       "    </tr>\n",
       "  </thead>\n",
       "  <tbody>\n",
       "    <tr>\n",
       "      <th>0</th>\n",
       "      <td>United States</td>\n",
       "      <td>USA</td>\n",
       "      <td>North Carolina</td>\n",
       "      <td>US_NC</td>\n",
       "      <td>STATE_WIDE</td>\n",
       "      <td>20200304</td>\n",
       "      <td>0</td>\n",
       "      <td>NaN</td>\n",
       "      <td>NaN</td>\n",
       "      <td>0</td>\n",
       "      <td>...</td>\n",
       "      <td>0.0</td>\n",
       "      <td>0.0</td>\n",
       "      <td>2.08</td>\n",
       "      <td>2.08</td>\n",
       "      <td>2.38</td>\n",
       "      <td>2.38</td>\n",
       "      <td>0.0</td>\n",
       "      <td>0.0</td>\n",
       "      <td>3/4/2020</td>\n",
       "      <td>0</td>\n",
       "    </tr>\n",
       "    <tr>\n",
       "      <th>1</th>\n",
       "      <td>United States</td>\n",
       "      <td>USA</td>\n",
       "      <td>North Carolina</td>\n",
       "      <td>US_NC</td>\n",
       "      <td>STATE_WIDE</td>\n",
       "      <td>20200305</td>\n",
       "      <td>0</td>\n",
       "      <td>NaN</td>\n",
       "      <td>NaN</td>\n",
       "      <td>0</td>\n",
       "      <td>...</td>\n",
       "      <td>0.0</td>\n",
       "      <td>0.0</td>\n",
       "      <td>2.08</td>\n",
       "      <td>2.08</td>\n",
       "      <td>2.38</td>\n",
       "      <td>2.38</td>\n",
       "      <td>0.0</td>\n",
       "      <td>0.0</td>\n",
       "      <td>3/5/2020</td>\n",
       "      <td>0</td>\n",
       "    </tr>\n",
       "    <tr>\n",
       "      <th>2</th>\n",
       "      <td>United States</td>\n",
       "      <td>USA</td>\n",
       "      <td>North Carolina</td>\n",
       "      <td>US_NC</td>\n",
       "      <td>STATE_WIDE</td>\n",
       "      <td>20200306</td>\n",
       "      <td>0</td>\n",
       "      <td>NaN</td>\n",
       "      <td>NaN</td>\n",
       "      <td>0</td>\n",
       "      <td>...</td>\n",
       "      <td>0.0</td>\n",
       "      <td>0.0</td>\n",
       "      <td>2.08</td>\n",
       "      <td>2.08</td>\n",
       "      <td>2.38</td>\n",
       "      <td>2.38</td>\n",
       "      <td>0.0</td>\n",
       "      <td>0.0</td>\n",
       "      <td>3/6/2020</td>\n",
       "      <td>0</td>\n",
       "    </tr>\n",
       "    <tr>\n",
       "      <th>3</th>\n",
       "      <td>United States</td>\n",
       "      <td>USA</td>\n",
       "      <td>North Carolina</td>\n",
       "      <td>US_NC</td>\n",
       "      <td>STATE_WIDE</td>\n",
       "      <td>20200307</td>\n",
       "      <td>0</td>\n",
       "      <td>NaN</td>\n",
       "      <td>NaN</td>\n",
       "      <td>0</td>\n",
       "      <td>...</td>\n",
       "      <td>0.0</td>\n",
       "      <td>0.0</td>\n",
       "      <td>2.08</td>\n",
       "      <td>2.08</td>\n",
       "      <td>2.38</td>\n",
       "      <td>2.38</td>\n",
       "      <td>0.0</td>\n",
       "      <td>0.0</td>\n",
       "      <td>3/7/2020</td>\n",
       "      <td>0</td>\n",
       "    </tr>\n",
       "    <tr>\n",
       "      <th>4</th>\n",
       "      <td>United States</td>\n",
       "      <td>USA</td>\n",
       "      <td>North Carolina</td>\n",
       "      <td>US_NC</td>\n",
       "      <td>STATE_WIDE</td>\n",
       "      <td>20200308</td>\n",
       "      <td>0</td>\n",
       "      <td>NaN</td>\n",
       "      <td>NaN</td>\n",
       "      <td>0</td>\n",
       "      <td>...</td>\n",
       "      <td>0.0</td>\n",
       "      <td>0.0</td>\n",
       "      <td>2.08</td>\n",
       "      <td>2.08</td>\n",
       "      <td>2.38</td>\n",
       "      <td>2.38</td>\n",
       "      <td>0.0</td>\n",
       "      <td>0.0</td>\n",
       "      <td>3/8/2020</td>\n",
       "      <td>0</td>\n",
       "    </tr>\n",
       "  </tbody>\n",
       "</table>\n",
       "<p>5 rows × 74 columns</p>\n",
       "</div>"
      ],
      "text/plain": [
       "     CountryName CountryCode      RegionName RegionCode Jurisdiction  \\\n",
       "0  United States         USA  North Carolina      US_NC   STATE_WIDE   \n",
       "1  United States         USA  North Carolina      US_NC   STATE_WIDE   \n",
       "2  United States         USA  North Carolina      US_NC   STATE_WIDE   \n",
       "3  United States         USA  North Carolina      US_NC   STATE_WIDE   \n",
       "4  United States         USA  North Carolina      US_NC   STATE_WIDE   \n",
       "\n",
       "       Date  C1_School closing  C1_Flag C1_Notes  C2_Workplace closing  ...  \\\n",
       "0  20200304                  0      NaN      NaN                     0  ...   \n",
       "1  20200305                  0      NaN      NaN                     0  ...   \n",
       "2  20200306                  0      NaN      NaN                     0  ...   \n",
       "3  20200307                  0      NaN      NaN                     0  ...   \n",
       "4  20200308                  0      NaN      NaN                     0  ...   \n",
       "\n",
       "   StringencyLegacyIndex StringencyLegacyIndexForDisplay  \\\n",
       "0                    0.0                             0.0   \n",
       "1                    0.0                             0.0   \n",
       "2                    0.0                             0.0   \n",
       "3                    0.0                             0.0   \n",
       "4                    0.0                             0.0   \n",
       "\n",
       "   GovernmentResponseIndex  GovernmentResponseIndexForDisplay  \\\n",
       "0                     2.08                               2.08   \n",
       "1                     2.08                               2.08   \n",
       "2                     2.08                               2.08   \n",
       "3                     2.08                               2.08   \n",
       "4                     2.08                               2.08   \n",
       "\n",
       "  ContainmentHealthIndex  ContainmentHealthIndexForDisplay  \\\n",
       "0                   2.38                              2.38   \n",
       "1                   2.38                              2.38   \n",
       "2                   2.38                              2.38   \n",
       "3                   2.38                              2.38   \n",
       "4                   2.38                              2.38   \n",
       "\n",
       "   EconomicSupportIndex EconomicSupportIndexForDisplay      date  \\\n",
       "0                   0.0                            0.0  3/4/2020   \n",
       "1                   0.0                            0.0  3/5/2020   \n",
       "2                   0.0                            0.0  3/6/2020   \n",
       "3                   0.0                            0.0  3/7/2020   \n",
       "4                   0.0                            0.0  3/8/2020   \n",
       "\n",
       "   deathIncrease  \n",
       "0              0  \n",
       "1              0  \n",
       "2              0  \n",
       "3              0  \n",
       "4              0  \n",
       "\n",
       "[5 rows x 74 columns]"
      ]
     },
     "execution_count": 2,
     "metadata": {},
     "output_type": "execute_result"
    }
   ],
   "source": [
    "###############################\n",
    "################################\n",
    "## New dataset with stringency\n",
    "\n",
    "\n",
    "# Load data into a dataframe\n",
    "dfStr= pd.read_csv(\"new_stringency.csv\")\n",
    "dfStr.head()\n",
    "#dfCovid.tail()"
   ]
  },
  {
   "cell_type": "code",
   "execution_count": 42,
   "metadata": {},
   "outputs": [
    {
     "data": {
      "text/plain": [
       "numpy.ndarray"
      ]
     },
     "execution_count": 42,
     "metadata": {},
     "output_type": "execute_result"
    }
   ],
   "source": [
    "# set independent and dependent variables\n",
    "\n",
    "strfeatures=dfStr[['GovernmentResponseIndex','StringencyIndex','ContainmentHealthIndex','EconomicSupportIndex']].values\n",
    "\n",
    "death=dfStr['deathIncrease']\n",
    "\n",
    "type(features)\n",
    "#feature=features.reshape(-1,1)"
   ]
  },
  {
   "cell_type": "code",
   "execution_count": null,
   "metadata": {},
   "outputs": [],
   "source": [
    "\n"
   ]
  },
  {
   "cell_type": "code",
   "execution_count": null,
   "metadata": {},
   "outputs": [],
   "source": []
  },
  {
   "cell_type": "code",
   "execution_count": 43,
   "metadata": {},
   "outputs": [
    {
     "name": "stdout",
     "output_type": "stream",
     "text": [
      "-28.29750089278182\n",
      "0.0011946340866898497\n"
     ]
    }
   ],
   "source": [
    "# train the data with Ridge Regression method\n",
    "\n",
    "from sklearn.linear_model import Ridge\n",
    "from sklearn.model_selection import RandomizedSearchCV\n",
    "from scipy.stats import uniform\n",
    "rr_model=Ridge()\n",
    "\n",
    "param_grid = {'alpha': uniform()}\n",
    "\n",
    "rrsearch=RandomizedSearchCV(estimator=rr_model, param_distributions=param_grid, n_iter=100,cv=5)\n",
    "rrsearch.fit(strfeatures, death)\n",
    "\n",
    "print(rrsearch.best_score_)\n",
    "print(rrsearch.best_estimator_.alpha)"
   ]
  },
  {
   "cell_type": "code",
   "execution_count": null,
   "metadata": {},
   "outputs": [],
   "source": []
  },
  {
   "cell_type": "code",
   "execution_count": 3,
   "metadata": {},
   "outputs": [
    {
     "data": {
      "text/html": [
       "<div>\n",
       "<style scoped>\n",
       "    .dataframe tbody tr th:only-of-type {\n",
       "        vertical-align: middle;\n",
       "    }\n",
       "\n",
       "    .dataframe tbody tr th {\n",
       "        vertical-align: top;\n",
       "    }\n",
       "\n",
       "    .dataframe thead th {\n",
       "        text-align: right;\n",
       "    }\n",
       "</style>\n",
       "<table border=\"1\" class=\"dataframe\">\n",
       "  <thead>\n",
       "    <tr style=\"text-align: right;\">\n",
       "      <th></th>\n",
       "      <th>Unnamed: 0</th>\n",
       "      <th>date</th>\n",
       "      <th>state</th>\n",
       "      <th>death</th>\n",
       "      <th>deathConfirmed</th>\n",
       "      <th>deathIncrease</th>\n",
       "      <th>hospitalizedCurrently</th>\n",
       "      <th>inIcuCurrently</th>\n",
       "      <th>positive</th>\n",
       "      <th>positiveCasesViral</th>\n",
       "      <th>...</th>\n",
       "      <th>StringencyIndex</th>\n",
       "      <th>StringencyIndexForDisplay</th>\n",
       "      <th>StringencyLegacyIndex</th>\n",
       "      <th>StringencyLegacyIndexForDisplay</th>\n",
       "      <th>GovernmentResponseIndex</th>\n",
       "      <th>GovernmentResponseIndexForDisplay</th>\n",
       "      <th>ContainmentHealthIndex</th>\n",
       "      <th>ContainmentHealthIndexForDisplay</th>\n",
       "      <th>EconomicSupportIndex</th>\n",
       "      <th>EconomicSupportIndexForDisplay</th>\n",
       "    </tr>\n",
       "  </thead>\n",
       "  <tbody>\n",
       "    <tr>\n",
       "      <th>362</th>\n",
       "      <td>362</td>\n",
       "      <td>3/1/2021</td>\n",
       "      <td>NC</td>\n",
       "      <td>11254</td>\n",
       "      <td>9959</td>\n",
       "      <td>42</td>\n",
       "      <td>1319</td>\n",
       "      <td>333</td>\n",
       "      <td>862170</td>\n",
       "      <td>752406</td>\n",
       "      <td>...</td>\n",
       "      <td>56.48</td>\n",
       "      <td>56.48</td>\n",
       "      <td>63.81</td>\n",
       "      <td>63.81</td>\n",
       "      <td>62.6</td>\n",
       "      <td>62.6</td>\n",
       "      <td>62.62</td>\n",
       "      <td>62.62</td>\n",
       "      <td>62.5</td>\n",
       "      <td>62.5</td>\n",
       "    </tr>\n",
       "    <tr>\n",
       "      <th>363</th>\n",
       "      <td>363</td>\n",
       "      <td>3/2/2021</td>\n",
       "      <td>NC</td>\n",
       "      <td>11288</td>\n",
       "      <td>9987</td>\n",
       "      <td>34</td>\n",
       "      <td>1353</td>\n",
       "      <td>334</td>\n",
       "      <td>863409</td>\n",
       "      <td>753280</td>\n",
       "      <td>...</td>\n",
       "      <td>56.48</td>\n",
       "      <td>56.48</td>\n",
       "      <td>63.81</td>\n",
       "      <td>63.81</td>\n",
       "      <td>62.6</td>\n",
       "      <td>62.6</td>\n",
       "      <td>62.62</td>\n",
       "      <td>62.62</td>\n",
       "      <td>62.5</td>\n",
       "      <td>62.5</td>\n",
       "    </tr>\n",
       "    <tr>\n",
       "      <th>364</th>\n",
       "      <td>364</td>\n",
       "      <td>3/3/2021</td>\n",
       "      <td>NC</td>\n",
       "      <td>11363</td>\n",
       "      <td>10050</td>\n",
       "      <td>75</td>\n",
       "      <td>1303</td>\n",
       "      <td>332</td>\n",
       "      <td>865554</td>\n",
       "      <td>754610</td>\n",
       "      <td>...</td>\n",
       "      <td>56.48</td>\n",
       "      <td>56.48</td>\n",
       "      <td>63.81</td>\n",
       "      <td>63.81</td>\n",
       "      <td>62.6</td>\n",
       "      <td>62.6</td>\n",
       "      <td>62.62</td>\n",
       "      <td>62.62</td>\n",
       "      <td>62.5</td>\n",
       "      <td>62.5</td>\n",
       "    </tr>\n",
       "    <tr>\n",
       "      <th>365</th>\n",
       "      <td>365</td>\n",
       "      <td>3/4/2021</td>\n",
       "      <td>NC</td>\n",
       "      <td>11399</td>\n",
       "      <td>10083</td>\n",
       "      <td>36</td>\n",
       "      <td>1290</td>\n",
       "      <td>326</td>\n",
       "      <td>868056</td>\n",
       "      <td>756509</td>\n",
       "      <td>...</td>\n",
       "      <td>56.48</td>\n",
       "      <td>56.48</td>\n",
       "      <td>63.81</td>\n",
       "      <td>63.81</td>\n",
       "      <td>62.6</td>\n",
       "      <td>62.6</td>\n",
       "      <td>62.62</td>\n",
       "      <td>62.62</td>\n",
       "      <td>62.5</td>\n",
       "      <td>62.5</td>\n",
       "    </tr>\n",
       "    <tr>\n",
       "      <th>366</th>\n",
       "      <td>366</td>\n",
       "      <td>3/5/2021</td>\n",
       "      <td>NC</td>\n",
       "      <td>11446</td>\n",
       "      <td>10125</td>\n",
       "      <td>47</td>\n",
       "      <td>1226</td>\n",
       "      <td>314</td>\n",
       "      <td>870149</td>\n",
       "      <td>758115</td>\n",
       "      <td>...</td>\n",
       "      <td>56.48</td>\n",
       "      <td>56.48</td>\n",
       "      <td>63.81</td>\n",
       "      <td>63.81</td>\n",
       "      <td>62.6</td>\n",
       "      <td>62.6</td>\n",
       "      <td>62.62</td>\n",
       "      <td>62.62</td>\n",
       "      <td>62.5</td>\n",
       "      <td>62.5</td>\n",
       "    </tr>\n",
       "  </tbody>\n",
       "</table>\n",
       "<p>5 rows × 23 columns</p>\n",
       "</div>"
      ],
      "text/plain": [
       "     Unnamed: 0      date state  death  deathConfirmed  deathIncrease  \\\n",
       "362         362  3/1/2021    NC  11254            9959             42   \n",
       "363         363  3/2/2021    NC  11288            9987             34   \n",
       "364         364  3/3/2021    NC  11363           10050             75   \n",
       "365         365  3/4/2021    NC  11399           10083             36   \n",
       "366         366  3/5/2021    NC  11446           10125             47   \n",
       "\n",
       "     hospitalizedCurrently  inIcuCurrently  positive  positiveCasesViral  ...  \\\n",
       "362                   1319             333    862170              752406  ...   \n",
       "363                   1353             334    863409              753280  ...   \n",
       "364                   1303             332    865554              754610  ...   \n",
       "365                   1290             326    868056              756509  ...   \n",
       "366                   1226             314    870149              758115  ...   \n",
       "\n",
       "     StringencyIndex  StringencyIndexForDisplay  StringencyLegacyIndex  \\\n",
       "362            56.48                      56.48                  63.81   \n",
       "363            56.48                      56.48                  63.81   \n",
       "364            56.48                      56.48                  63.81   \n",
       "365            56.48                      56.48                  63.81   \n",
       "366            56.48                      56.48                  63.81   \n",
       "\n",
       "     StringencyLegacyIndexForDisplay  GovernmentResponseIndex  \\\n",
       "362                            63.81                     62.6   \n",
       "363                            63.81                     62.6   \n",
       "364                            63.81                     62.6   \n",
       "365                            63.81                     62.6   \n",
       "366                            63.81                     62.6   \n",
       "\n",
       "     GovernmentResponseIndexForDisplay  ContainmentHealthIndex  \\\n",
       "362                               62.6                   62.62   \n",
       "363                               62.6                   62.62   \n",
       "364                               62.6                   62.62   \n",
       "365                               62.6                   62.62   \n",
       "366                               62.6                   62.62   \n",
       "\n",
       "     ContainmentHealthIndexForDisplay  EconomicSupportIndex  \\\n",
       "362                             62.62                  62.5   \n",
       "363                             62.62                  62.5   \n",
       "364                             62.62                  62.5   \n",
       "365                             62.62                  62.5   \n",
       "366                             62.62                  62.5   \n",
       "\n",
       "     EconomicSupportIndexForDisplay  \n",
       "362                            62.5  \n",
       "363                            62.5  \n",
       "364                            62.5  \n",
       "365                            62.5  \n",
       "366                            62.5  \n",
       "\n",
       "[5 rows x 23 columns]"
      ]
     },
     "execution_count": 3,
     "metadata": {},
     "output_type": "execute_result"
    }
   ],
   "source": [
    "#import preprocessed dataset\n",
    "\n",
    "dfpre = pd.read_csv(\"covid_preprocessed.csv\")\n",
    "dfpre.tail()"
   ]
  },
  {
   "cell_type": "code",
   "execution_count": 16,
   "metadata": {},
   "outputs": [],
   "source": [
    "\n",
    "prefeatures=dfpre[['hospitalizedCurrently','inIcuCurrently','policy','StringencyIndex']].values\n",
    "\n",
    "death=dfpre['deathIncrease']"
   ]
  },
  {
   "cell_type": "code",
   "execution_count": 17,
   "metadata": {},
   "outputs": [
    {
     "name": "stdout",
     "output_type": "stream",
     "text": [
      "-9.730263658883882\n",
      "0.9977117113444273\n"
     ]
    }
   ],
   "source": [
    "# train the data with Ridge Regression method\n",
    "\n",
    "from sklearn.linear_model import Ridge\n",
    "from sklearn.model_selection import RandomizedSearchCV\n",
    "from scipy.stats import uniform\n",
    "rr_model=Ridge()\n",
    "\n",
    "param_grid = {'alpha': uniform()}\n",
    "\n",
    "rrsearch=RandomizedSearchCV(estimator=rr_model, param_distributions=param_grid, n_iter=100,cv=5)\n",
    "rrsearch.fit(prefeatures, death)\n",
    "\n",
    "print(rrsearch.best_score_)\n",
    "print(rrsearch.best_estimator_.alpha)"
   ]
  },
  {
   "cell_type": "code",
   "execution_count": null,
   "metadata": {},
   "outputs": [],
   "source": [
    "features1=dfpre[['positiveIncrease','hospitalizedCurrently','policy','GovernmentResponseIndex','StringencyIndex','ContainmentHealthIndex','EconomicSupportIndex']]\n",
    "death=dfpre['deathIncrease']\n",
    "bag = BaggingRegressor()\n"
   ]
  },
  {
   "cell_type": "code",
   "execution_count": 24,
   "metadata": {},
   "outputs": [
    {
     "name": "stdout",
     "output_type": "stream",
     "text": [
      "[0.42981225 0.42683332 0.0157119  0.04575755 0.03058123 0.04022607\n",
      " 0.01107768]\n"
     ]
    }
   ],
   "source": [
    "from sklearn.ensemble import ExtraTreesClassifier\n",
    "\n",
    "model = ExtraTreesClassifier(n_estimators=10)\n",
    "model.fit(features1, death)\n",
    "print(model.feature_importances_)"
   ]
  },
  {
   "cell_type": "code",
   "execution_count": 19,
   "metadata": {},
   "outputs": [
    {
     "ename": "NameError",
     "evalue": "name 'dfpre' is not defined",
     "output_type": "error",
     "traceback": [
      "\u001b[1;31m---------------------------------------------------------------------------\u001b[0m",
      "\u001b[1;31mNameError\u001b[0m                                 Traceback (most recent call last)",
      "\u001b[1;32m<ipython-input-19-0f295c28cb98>\u001b[0m in \u001b[0;36m<module>\u001b[1;34m\u001b[0m\n\u001b[0;32m      6\u001b[0m \u001b[1;33m\u001b[0m\u001b[0m\n\u001b[0;32m      7\u001b[0m \u001b[1;33m\u001b[0m\u001b[0m\n\u001b[1;32m----> 8\u001b[1;33m \u001b[0mfeatures1\u001b[0m\u001b[1;33m=\u001b[0m\u001b[0mdfpre\u001b[0m\u001b[1;33m[\u001b[0m\u001b[1;33m[\u001b[0m\u001b[1;34m'positiveIncrease'\u001b[0m\u001b[1;33m,\u001b[0m\u001b[1;34m'hospitalizedCurrently'\u001b[0m\u001b[1;33m,\u001b[0m\u001b[1;34m'policy'\u001b[0m\u001b[1;33m,\u001b[0m\u001b[1;34m'GovernmentResponseIndex'\u001b[0m\u001b[1;33m,\u001b[0m\u001b[1;34m'StringencyIndex'\u001b[0m\u001b[1;33m,\u001b[0m\u001b[1;34m'ContainmentHealthIndex'\u001b[0m\u001b[1;33m,\u001b[0m\u001b[1;34m'EconomicSupportIndex'\u001b[0m\u001b[1;33m]\u001b[0m\u001b[1;33m]\u001b[0m\u001b[1;33m\u001b[0m\u001b[1;33m\u001b[0m\u001b[0m\n\u001b[0m\u001b[0;32m      9\u001b[0m \u001b[0mdeath\u001b[0m\u001b[1;33m=\u001b[0m\u001b[0mdfpre\u001b[0m\u001b[1;33m[\u001b[0m\u001b[1;34m'deathIncrease'\u001b[0m\u001b[1;33m]\u001b[0m\u001b[1;33m\u001b[0m\u001b[1;33m\u001b[0m\u001b[0m\n\u001b[0;32m     10\u001b[0m \u001b[0mbag\u001b[0m \u001b[1;33m=\u001b[0m \u001b[0mBaggingRegressor\u001b[0m\u001b[1;33m(\u001b[0m\u001b[1;33m)\u001b[0m\u001b[1;33m\u001b[0m\u001b[1;33m\u001b[0m\u001b[0m\n",
      "\u001b[1;31mNameError\u001b[0m: name 'dfpre' is not defined"
     ]
    }
   ],
   "source": [
    "from sklearn.model_selection import cross_val_score\n",
    "from sklearn.ensemble import BaggingRegressor\n",
    "from sklearn.model_selection import RepeatedKFold\n",
    "from numpy import mean\n",
    "from numpy import std\n",
    "\n",
    "\n",
    "features1=dfpre[['positiveIncrease','hospitalizedCurrently','policy','GovernmentResponseIndex','StringencyIndex','ContainmentHealthIndex','EconomicSupportIndex']]\n",
    "death=dfpre['deathIncrease']\n",
    "bag = BaggingRegressor()\n",
    "\n",
    "\n",
    "#scores\n",
    "cv = RepeatedKFold(n_splits = 5, n_repeats = 3, random_state=1)\n",
    "\n",
    "\n",
    "scores = cross_val_score(bag, features1, death, cv=cv)\n",
    "#scores\n",
    "\n",
    "print('MAE: %.3f (%.3f)' % (mean(scores), std(scores)))\n",
    "\n",
    "\n"
   ]
  },
  {
   "cell_type": "code",
   "execution_count": null,
   "metadata": {},
   "outputs": [],
   "source": []
  },
  {
   "cell_type": "code",
   "execution_count": null,
   "metadata": {},
   "outputs": [],
   "source": []
  },
  {
   "cell_type": "code",
   "execution_count": null,
   "metadata": {},
   "outputs": [],
   "source": []
  },
  {
   "cell_type": "code",
   "execution_count": null,
   "metadata": {},
   "outputs": [],
   "source": []
  },
  {
   "cell_type": "code",
   "execution_count": 6,
   "metadata": {},
   "outputs": [
    {
     "data": {
      "text/html": [
       "<div>\n",
       "<style scoped>\n",
       "    .dataframe tbody tr th:only-of-type {\n",
       "        vertical-align: middle;\n",
       "    }\n",
       "\n",
       "    .dataframe tbody tr th {\n",
       "        vertical-align: top;\n",
       "    }\n",
       "\n",
       "    .dataframe thead th {\n",
       "        text-align: right;\n",
       "    }\n",
       "</style>\n",
       "<table border=\"1\" class=\"dataframe\">\n",
       "  <thead>\n",
       "    <tr style=\"text-align: right;\">\n",
       "      <th></th>\n",
       "      <th>CountryName</th>\n",
       "      <th>CountryCode</th>\n",
       "      <th>RegionName</th>\n",
       "      <th>RegionCode</th>\n",
       "      <th>Jurisdiction</th>\n",
       "      <th>Date</th>\n",
       "      <th>C1_School closing</th>\n",
       "      <th>C2_Workplace closing</th>\n",
       "      <th>C3_Cancel public events</th>\n",
       "      <th>C4_Restrictions on gatherings</th>\n",
       "      <th>...</th>\n",
       "      <th>H8_Protection of elderly people</th>\n",
       "      <th>ConfirmedCases</th>\n",
       "      <th>ConfirmedDeaths</th>\n",
       "      <th>StringencyIndex</th>\n",
       "      <th>StringencyLegacyIndex</th>\n",
       "      <th>GovernmentResponseIndex</th>\n",
       "      <th>ContainmentHealthIndex</th>\n",
       "      <th>ContainmentHealthIndexForDisplay</th>\n",
       "      <th>date</th>\n",
       "      <th>deathIncrease</th>\n",
       "    </tr>\n",
       "  </thead>\n",
       "  <tbody>\n",
       "    <tr>\n",
       "      <th>0</th>\n",
       "      <td>United States</td>\n",
       "      <td>USA</td>\n",
       "      <td>Alaska</td>\n",
       "      <td>US_AK</td>\n",
       "      <td>STATE_WIDE</td>\n",
       "      <td>20200306</td>\n",
       "      <td>0</td>\n",
       "      <td>0</td>\n",
       "      <td>0</td>\n",
       "      <td>0</td>\n",
       "      <td>...</td>\n",
       "      <td>0</td>\n",
       "      <td>0</td>\n",
       "      <td>0</td>\n",
       "      <td>11.11</td>\n",
       "      <td>14.29</td>\n",
       "      <td>8.33</td>\n",
       "      <td>9.52</td>\n",
       "      <td>9.52</td>\n",
       "      <td>3/6/2020</td>\n",
       "      <td>0</td>\n",
       "    </tr>\n",
       "    <tr>\n",
       "      <th>1</th>\n",
       "      <td>United States</td>\n",
       "      <td>USA</td>\n",
       "      <td>Alaska</td>\n",
       "      <td>US_AK</td>\n",
       "      <td>STATE_WIDE</td>\n",
       "      <td>20200307</td>\n",
       "      <td>0</td>\n",
       "      <td>0</td>\n",
       "      <td>0</td>\n",
       "      <td>0</td>\n",
       "      <td>...</td>\n",
       "      <td>0</td>\n",
       "      <td>0</td>\n",
       "      <td>0</td>\n",
       "      <td>11.11</td>\n",
       "      <td>14.29</td>\n",
       "      <td>8.33</td>\n",
       "      <td>9.52</td>\n",
       "      <td>9.52</td>\n",
       "      <td>3/7/2020</td>\n",
       "      <td>0</td>\n",
       "    </tr>\n",
       "    <tr>\n",
       "      <th>2</th>\n",
       "      <td>United States</td>\n",
       "      <td>USA</td>\n",
       "      <td>Alaska</td>\n",
       "      <td>US_AK</td>\n",
       "      <td>STATE_WIDE</td>\n",
       "      <td>20200308</td>\n",
       "      <td>0</td>\n",
       "      <td>0</td>\n",
       "      <td>0</td>\n",
       "      <td>0</td>\n",
       "      <td>...</td>\n",
       "      <td>0</td>\n",
       "      <td>0</td>\n",
       "      <td>0</td>\n",
       "      <td>11.11</td>\n",
       "      <td>14.29</td>\n",
       "      <td>8.33</td>\n",
       "      <td>9.52</td>\n",
       "      <td>9.52</td>\n",
       "      <td>3/8/2020</td>\n",
       "      <td>0</td>\n",
       "    </tr>\n",
       "    <tr>\n",
       "      <th>3</th>\n",
       "      <td>United States</td>\n",
       "      <td>USA</td>\n",
       "      <td>Alaska</td>\n",
       "      <td>US_AK</td>\n",
       "      <td>STATE_WIDE</td>\n",
       "      <td>20200309</td>\n",
       "      <td>0</td>\n",
       "      <td>0</td>\n",
       "      <td>0</td>\n",
       "      <td>0</td>\n",
       "      <td>...</td>\n",
       "      <td>0</td>\n",
       "      <td>0</td>\n",
       "      <td>0</td>\n",
       "      <td>11.11</td>\n",
       "      <td>14.29</td>\n",
       "      <td>8.33</td>\n",
       "      <td>9.52</td>\n",
       "      <td>9.52</td>\n",
       "      <td>3/9/2020</td>\n",
       "      <td>0</td>\n",
       "    </tr>\n",
       "    <tr>\n",
       "      <th>4</th>\n",
       "      <td>United States</td>\n",
       "      <td>USA</td>\n",
       "      <td>Alaska</td>\n",
       "      <td>US_AK</td>\n",
       "      <td>STATE_WIDE</td>\n",
       "      <td>20200310</td>\n",
       "      <td>0</td>\n",
       "      <td>0</td>\n",
       "      <td>0</td>\n",
       "      <td>0</td>\n",
       "      <td>...</td>\n",
       "      <td>0</td>\n",
       "      <td>0</td>\n",
       "      <td>0</td>\n",
       "      <td>11.11</td>\n",
       "      <td>14.29</td>\n",
       "      <td>8.33</td>\n",
       "      <td>9.52</td>\n",
       "      <td>9.52</td>\n",
       "      <td>3/10/2020</td>\n",
       "      <td>0</td>\n",
       "    </tr>\n",
       "  </tbody>\n",
       "</table>\n",
       "<p>5 rows × 31 columns</p>\n",
       "</div>"
      ],
      "text/plain": [
       "     CountryName CountryCode RegionName RegionCode Jurisdiction      Date  \\\n",
       "0  United States         USA     Alaska      US_AK   STATE_WIDE  20200306   \n",
       "1  United States         USA     Alaska      US_AK   STATE_WIDE  20200307   \n",
       "2  United States         USA     Alaska      US_AK   STATE_WIDE  20200308   \n",
       "3  United States         USA     Alaska      US_AK   STATE_WIDE  20200309   \n",
       "4  United States         USA     Alaska      US_AK   STATE_WIDE  20200310   \n",
       "\n",
       "   C1_School closing  C2_Workplace closing  C3_Cancel public events  \\\n",
       "0                  0                     0                        0   \n",
       "1                  0                     0                        0   \n",
       "2                  0                     0                        0   \n",
       "3                  0                     0                        0   \n",
       "4                  0                     0                        0   \n",
       "\n",
       "   C4_Restrictions on gatherings  ...  H8_Protection of elderly people  \\\n",
       "0                              0  ...                                0   \n",
       "1                              0  ...                                0   \n",
       "2                              0  ...                                0   \n",
       "3                              0  ...                                0   \n",
       "4                              0  ...                                0   \n",
       "\n",
       "   ConfirmedCases  ConfirmedDeaths  StringencyIndex  StringencyLegacyIndex  \\\n",
       "0               0                0            11.11                  14.29   \n",
       "1               0                0            11.11                  14.29   \n",
       "2               0                0            11.11                  14.29   \n",
       "3               0                0            11.11                  14.29   \n",
       "4               0                0            11.11                  14.29   \n",
       "\n",
       "   GovernmentResponseIndex  ContainmentHealthIndex  \\\n",
       "0                     8.33                    9.52   \n",
       "1                     8.33                    9.52   \n",
       "2                     8.33                    9.52   \n",
       "3                     8.33                    9.52   \n",
       "4                     8.33                    9.52   \n",
       "\n",
       "   ContainmentHealthIndexForDisplay       date  deathIncrease  \n",
       "0                              9.52   3/6/2020              0  \n",
       "1                              9.52   3/7/2020              0  \n",
       "2                              9.52   3/8/2020              0  \n",
       "3                              9.52   3/9/2020              0  \n",
       "4                              9.52  3/10/2020              0  \n",
       "\n",
       "[5 rows x 31 columns]"
      ]
     },
     "execution_count": 6,
     "metadata": {},
     "output_type": "execute_result"
    }
   ],
   "source": [
    "#############combined dataset\n",
    "dffinal= pd.read_csv(\"final.csv\")\n",
    "dffinal.head()\n",
    "#dfCovid.tail()"
   ]
  },
  {
   "cell_type": "code",
   "execution_count": 20,
   "metadata": {},
   "outputs": [
    {
     "name": "stdout",
     "output_type": "stream",
     "text": [
      "0.34461332593414695\n",
      "0.9862314231607469\n"
     ]
    }
   ],
   "source": [
    "from sklearn.linear_model import Ridge\n",
    "from sklearn.model_selection import RandomizedSearchCV\n",
    "from scipy.stats import uniform\n",
    "rr_model=Ridge()\n",
    "\n",
    "param_grid = {'alpha': uniform()}\n",
    "\n",
    "features_final=dffinal[['ConfirmedCases','StringencyIndex','StringencyLegacyIndex','GovernmentResponseIndex','ContainmentHealthIndex']]\n",
    "death=dffinal['deathIncrease']\n",
    "rrsearch=RandomizedSearchCV(estimator=rr_model, param_distributions=param_grid, n_iter=100,cv=5)\n",
    "rrsearch.fit(features_final, death)\n",
    "\n",
    "print(rrsearch.best_score_)\n",
    "print(rrsearch.best_estimator_.alpha)"
   ]
  },
  {
   "cell_type": "code",
   "execution_count": 21,
   "metadata": {},
   "outputs": [],
   "source": [
    "from sklearn.model_selection import train_test_split\n",
    "from sklearn.metrics import mean_squared_error\n",
    "from sklearn.metrics import r2_score"
   ]
  },
  {
   "cell_type": "code",
   "execution_count": 22,
   "metadata": {},
   "outputs": [],
   "source": [
    "X_train, X_test, y_train, y_test = train_test_split(features_final,death,test_size=0.2)"
   ]
  },
  {
   "cell_type": "code",
   "execution_count": 23,
   "metadata": {},
   "outputs": [
    {
     "name": "stdout",
     "output_type": "stream",
     "text": [
      "0.21886754734409453\n"
     ]
    }
   ],
   "source": [
    "\n",
    "from sklearn.svm import SVR\n",
    "\n",
    "svr_model = SVR()\n",
    "svr_model.fit(X_train,y_train)\n",
    "\n",
    "pred = svr_model.predict(X_test)\n",
    "\n",
    "#print(np.sqrt(mean_squared_error(y_train, pred, squared=False)))\n",
    "print(r2_score(y_test, pred))"
   ]
  },
  {
   "cell_type": "code",
   "execution_count": 25,
   "metadata": {},
   "outputs": [
    {
     "name": "stdout",
     "output_type": "stream",
     "text": [
      "MAE: 0.617 (0.057)\n"
     ]
    }
   ],
   "source": [
    "\n",
    "\n",
    "\n",
    "bag = BaggingRegressor()\n",
    "\n",
    "\n",
    "#scores\n",
    "cv = RepeatedKFold(n_splits = 5, n_repeats = 3, random_state=1)\n",
    "scores = cross_val_score(bag, features_final, death, cv=cv)\n",
    "#scores\n",
    "\n",
    "print('MAE: %.3f (%.3f)' % (mean(scores), std(scores)))"
   ]
  },
  {
   "cell_type": "code",
   "execution_count": 40,
   "metadata": {},
   "outputs": [],
   "source": [
    "X1=dffinal[['ConfirmedCases','StringencyIndex','GovernmentResponseIndex','ContainmentHealthIndex','deathIncrease']].values\n",
    "y1=dffinal[['C6_Stay at home requirements']]"
   ]
  },
  {
   "cell_type": "code",
   "execution_count": 44,
   "metadata": {},
   "outputs": [
    {
     "name": "stdout",
     "output_type": "stream",
     "text": [
      "[0.5421531869309053, 0.5176218532404927, 0.556427423674344, 0.5500535618639528, 0.5768612747723622, 0.5647562935190146, 0.5752811997857525, 0.5738885913229781, 0.5776914836636314, 0.575682913765399, 0.5835029459025174, 0.5790037493304767, 0.5876539903588645, 0.5856454204606321, 0.5860471344402784, 0.584708087841457, 0.5869309051955008, 0.5892876272094268, 0.5859132297803964, 0.5853240492769147]\n"
     ]
    }
   ],
   "source": [
    "#check model accuracy for k in [1,20]\n",
    "from sklearn.neighbors import KNeighborsClassifier\n",
    "from sklearn.metrics import accuracy_score\n",
    "accuracy={}\n",
    "accuracy_list=[]\n",
    "for k in range(1,21):\n",
    "        knn= KNeighborsClassifier(n_neighbors=k)\n",
    "        scores={}\n",
    "        scores_list=[]\n",
    "        for i in range(1,11):\n",
    "                X_train, X_test, y_train, y_test = train_test_split(X1, y1, test_size=0.2)\n",
    "                knn.fit(X_train, y_train)\n",
    "                y_pred = knn.predict(X_test)\n",
    "                scores[i]=accuracy_score(y_test,y_pred)\n",
    "                scores_list.append(scores[i])\n",
    "        accuracy_avg=np.mean(scores_list)\n",
    "        accuracy[k]=accuracy_avg\n",
    "        accuracy_list.append(accuracy[k])\n",
    "print(accuracy_list)"
   ]
  },
  {
   "cell_type": "code",
   "execution_count": 45,
   "metadata": {},
   "outputs": [
    {
     "name": "stdout",
     "output_type": "stream",
     "text": [
      "[0.51660418 0.51942138 0.5191535  0.5191535  0.50549156]\n",
      "0.5159648216352625\n"
     ]
    }
   ],
   "source": [
    "from sklearn.linear_model import LogisticRegression\n",
    "logreg = LogisticRegression()\n",
    "#logreg.fit(X, y)\n",
    "\n",
    "\n",
    "from sklearn.model_selection import cross_val_score\n",
    "cur_score_lr = cross_val_score(logreg, X1, y1, cv=5)\n",
    "print(cur_score_lr)\n",
    "print(cur_score_lr.mean())"
   ]
  },
  {
   "cell_type": "code",
   "execution_count": 46,
   "metadata": {},
   "outputs": [
    {
     "name": "stdout",
     "output_type": "stream",
     "text": [
      "[0.46866631 0.47414948 0.53576212 0.5502277  0.56710421]\n",
      "0.5191819626943698\n"
     ]
    }
   ],
   "source": [
    "from sklearn.tree import DecisionTreeClassifier\n",
    "dtf = DecisionTreeClassifier()\n",
    "cur_score_dtf = cross_val_score(dtf, X1, y1, cv=5)\n",
    "print(cur_score_dtf)\n",
    "print(cur_score_dtf.mean())\n"
   ]
  },
  {
   "cell_type": "code",
   "execution_count": 34,
   "metadata": {},
   "outputs": [
    {
     "name": "stdout",
     "output_type": "stream",
     "text": [
      "[0.57096947 0.70506295 0.51727833 0.5558532  0.61746585]\n",
      "0.5933259593104883\n"
     ]
    }
   ],
   "source": [
    "from sklearn.naive_bayes import GaussianNB\n",
    "gnb = GaussianNB()\n",
    "# gnb.fit(X_train, y_train)\n",
    "\n",
    "cur_score_gnb = cross_val_score(gnb, X1, y1, cv=5)\n",
    "print(cur_score_gnb)\n",
    "print(cur_score_gnb.mean())"
   ]
  },
  {
   "cell_type": "code",
   "execution_count": 47,
   "metadata": {},
   "outputs": [
    {
     "name": "stdout",
     "output_type": "stream",
     "text": [
      "[0.51847884 0.5191535  0.5191535  0.50093758 0.47495312]\n",
      "0.506535307857323\n"
     ]
    }
   ],
   "source": [
    "from sklearn.svm import SVC\n",
    "svm = SVC()\n",
    "cur_score_svm = cross_val_score(svm, X1, y1, cv=5)\n",
    "print(cur_score_svm)\n",
    "print(cur_score_svm.mean())"
   ]
  },
  {
   "cell_type": "code",
   "execution_count": 48,
   "metadata": {},
   "outputs": [
    {
     "name": "stdout",
     "output_type": "stream",
     "text": [
      "[0.60792716 0.60916153 0.68631128 0.63273507 0.72649344]\n",
      "0.6525256936964444\n"
     ]
    }
   ],
   "source": [
    "from sklearn.discriminant_analysis import LinearDiscriminantAnalysis\n",
    "lda = LinearDiscriminantAnalysis()\n",
    "\n",
    "cur_score_lda = cross_val_score(lda, X1, y1, cv=5)\n",
    "print(cur_score_lda)\n",
    "print(cur_score_lda.mean())"
   ]
  },
  {
   "cell_type": "code",
   "execution_count": null,
   "metadata": {},
   "outputs": [],
   "source": []
  },
  {
   "cell_type": "code",
   "execution_count": 49,
   "metadata": {},
   "outputs": [],
   "source": [
    "\n",
    "y2=dffinal[['C2_Workplace closing']]\n"
   ]
  },
  {
   "cell_type": "code",
   "execution_count": 50,
   "metadata": {},
   "outputs": [
    {
     "name": "stdout",
     "output_type": "stream",
     "text": [
      "[0.5174879485806106, 0.4828066416711302, 0.49033208355650776, 0.5044724156400642, 0.4987680771290841, 0.4991162292447777, 0.5013122656668453, 0.4980449919657204, 0.49981253347616494, 0.4993036957686128, 0.5025174076057847, 0.5005891805034816, 0.5031333690412427, 0.4974558114622389, 0.5042849491162291, 0.5007498660953401, 0.5039367970005355, 0.5006695232994108, 0.5048473486877343, 0.5016604177825388]\n"
     ]
    }
   ],
   "source": [
    "accuracy={}\n",
    "accuracy_list=[]\n",
    "for k in range(1,21):\n",
    "        knn= KNeighborsClassifier(n_neighbors=k)\n",
    "        scores={}\n",
    "        scores_list=[]\n",
    "        for i in range(1,11):\n",
    "                X_train, X_test, y_train, y_test = train_test_split(X1, y2, test_size=0.2)\n",
    "                knn.fit(X_train, y_train)\n",
    "                y_pred = knn.predict(X_test)\n",
    "                scores[i]=accuracy_score(y_test,y_pred)\n",
    "                scores_list.append(scores[i])\n",
    "        accuracy_avg=np.mean(scores_list)\n",
    "        accuracy[k]=accuracy_avg\n",
    "        accuracy_list.append(accuracy[k])\n",
    "print(accuracy_list)"
   ]
  },
  {
   "cell_type": "code",
   "execution_count": 38,
   "metadata": {},
   "outputs": [
    {
     "name": "stdout",
     "output_type": "stream",
     "text": [
      "[0.61301553 0.55183499 0.66836325 0.58826681 0.657648  ]\n",
      "0.6158257157496415\n"
     ]
    }
   ],
   "source": [
    "gnb = GaussianNB()\n",
    "# gnb.fit(X_train, y_train)\n",
    "\n",
    "cur_score_gnb = cross_val_score(gnb, X1, y2, cv=5)\n",
    "print(cur_score_gnb)\n",
    "print(cur_score_gnb.mean())"
   ]
  },
  {
   "cell_type": "code",
   "execution_count": 52,
   "metadata": {},
   "outputs": [
    {
     "name": "stdout",
     "output_type": "stream",
     "text": [
      "[0.45366899 0.44200375 0.44146799 0.44012858 0.40235735]\n",
      "0.43592533249463267\n"
     ]
    }
   ],
   "source": [
    "cur_score_lr = cross_val_score(logreg, X1, y2, cv=5)\n",
    "print(cur_score_lr)\n",
    "print(cur_score_lr.mean())"
   ]
  },
  {
   "cell_type": "code",
   "execution_count": 53,
   "metadata": {},
   "outputs": [
    {
     "name": "stdout",
     "output_type": "stream",
     "text": [
      "[0.51901446 0.62577016 0.59014198 0.59148138 0.53790517]\n",
      "0.5728626298172138\n"
     ]
    }
   ],
   "source": [
    "dtf = DecisionTreeClassifier()\n",
    "cur_score_dtf = cross_val_score(dtf, X1, y2, cv=5)\n",
    "print(cur_score_dtf)\n",
    "print(cur_score_dtf.mean())\n"
   ]
  },
  {
   "cell_type": "code",
   "execution_count": 54,
   "metadata": {},
   "outputs": [
    {
     "name": "stdout",
     "output_type": "stream",
     "text": [
      "[0.49464381 0.50200911 0.32467185 0.48352531 0.43825342]\n",
      "0.44862069950101235\n"
     ]
    }
   ],
   "source": [
    "cur_score_svm = cross_val_score(svm, X1, y2, cv=5)\n",
    "print(cur_score_svm)\n",
    "print(cur_score_svm.mean())"
   ]
  },
  {
   "cell_type": "code",
   "execution_count": 56,
   "metadata": {},
   "outputs": [
    {
     "name": "stdout",
     "output_type": "stream",
     "text": [
      "[0.59962507 0.66273774 0.75649612 0.75301366 0.67720332]\n",
      "0.6898151821555343\n"
     ]
    }
   ],
   "source": [
    "lda = LinearDiscriminantAnalysis()\n",
    "\n",
    "cur_score_lda = cross_val_score(lda, X1, y2, cv=5)\n",
    "print(cur_score_lda)\n",
    "print(cur_score_lda.mean())"
   ]
  },
  {
   "cell_type": "code",
   "execution_count": null,
   "metadata": {},
   "outputs": [],
   "source": []
  },
  {
   "cell_type": "code",
   "execution_count": null,
   "metadata": {},
   "outputs": [],
   "source": []
  },
  {
   "cell_type": "code",
   "execution_count": 57,
   "metadata": {},
   "outputs": [],
   "source": [
    "\n",
    "y3=dffinal[['C1_School closing']]"
   ]
  },
  {
   "cell_type": "code",
   "execution_count": 58,
   "metadata": {
    "scrolled": true
   },
   "outputs": [
    {
     "name": "stdout",
     "output_type": "stream",
     "text": [
      "[0.6276379217996787, 0.5920728441349759, 0.6426084627745045, 0.6623460096411355, 0.6684788430637386, 0.6705409748259239, 0.6820299946438138, 0.6816282806641671, 0.684413497589716, 0.6865827530798072, 0.6908141403320835, 0.6907070166041779, 0.6910551687198715, 0.6915372254954473, 0.6975361542581682, 0.699437600428495, 0.6940278521692556, 0.697402249598286, 0.7023835029459027, 0.6921264059989287]\n"
     ]
    }
   ],
   "source": [
    "accuracy={}\n",
    "accuracy_list=[]\n",
    "for k in range(1,21):\n",
    "        knn= KNeighborsClassifier(n_neighbors=k)\n",
    "        scores={}\n",
    "        scores_list=[]\n",
    "        for i in range(1,11):\n",
    "                X_train, X_test, y_train, y_test = train_test_split(X1, y3, test_size=0.2)\n",
    "                knn.fit(X_train, y_train)\n",
    "                y_pred = knn.predict(X_test)\n",
    "                scores[i]=accuracy_score(y_test,y_pred)\n",
    "                scores_list.append(scores[i])\n",
    "        accuracy_avg=np.mean(scores_list)\n",
    "        accuracy[k]=accuracy_avg\n",
    "        accuracy_list.append(accuracy[k])\n",
    "print(accuracy_list)"
   ]
  },
  {
   "cell_type": "code",
   "execution_count": 59,
   "metadata": {},
   "outputs": [
    {
     "name": "stdout",
     "output_type": "stream",
     "text": [
      "[0.59132298 0.64184302 0.60809001 0.6662202  0.56174658]\n",
      "0.6138445581045786\n"
     ]
    }
   ],
   "source": [
    "gnb = GaussianNB()\n",
    "# gnb.fit(X_train, y_train)\n",
    "\n",
    "cur_score_gnb = cross_val_score(gnb, X1, y3, cv=5)\n",
    "print(cur_score_gnb)\n",
    "print(cur_score_gnb.mean())"
   ]
  },
  {
   "cell_type": "code",
   "execution_count": 60,
   "metadata": {},
   "outputs": [
    {
     "name": "stdout",
     "output_type": "stream",
     "text": [
      "[0.58944831 0.66943477 0.63541388 0.66086258 0.62148406]\n",
      "0.635328719618923\n"
     ]
    }
   ],
   "source": [
    "dtf = DecisionTreeClassifier()\n",
    "cur_score_dtf = cross_val_score(dtf, X1, y3, cv=5)\n",
    "print(cur_score_dtf)\n",
    "print(cur_score_dtf.mean())\n"
   ]
  },
  {
   "cell_type": "code",
   "execution_count": 61,
   "metadata": {},
   "outputs": [
    {
     "name": "stdout",
     "output_type": "stream",
     "text": [
      "[0.63256561 0.65738012 0.69541923 0.6407715  0.67398875]\n",
      "0.6600250433638745\n"
     ]
    }
   ],
   "source": [
    "cur_score_lr = cross_val_score(logreg, X1, y3, cv=5)\n",
    "print(cur_score_lr)\n",
    "print(cur_score_lr.mean())"
   ]
  },
  {
   "cell_type": "code",
   "execution_count": 62,
   "metadata": {},
   "outputs": [
    {
     "name": "stdout",
     "output_type": "stream",
     "text": [
      "[0.66122121 0.68684704 0.70479507 0.71979641 0.71095634]\n",
      "0.6967232134363516\n"
     ]
    }
   ],
   "source": [
    "lda = LinearDiscriminantAnalysis()\n",
    "\n",
    "cur_score_lda = cross_val_score(lda, X1, y3, cv=5)\n",
    "print(cur_score_lda)\n",
    "print(cur_score_lda.mean())"
   ]
  },
  {
   "cell_type": "code",
   "execution_count": 63,
   "metadata": {},
   "outputs": [
    {
     "name": "stdout",
     "output_type": "stream",
     "text": [
      "[0.61435458 0.65550496 0.66461291 0.67773908 0.68952585]\n",
      "0.6603474763150528\n"
     ]
    }
   ],
   "source": [
    "cur_score_svm = cross_val_score(svm, X1, y3, cv=5)\n",
    "print(cur_score_svm)\n",
    "print(cur_score_svm.mean())"
   ]
  },
  {
   "cell_type": "code",
   "execution_count": null,
   "metadata": {},
   "outputs": [],
   "source": []
  },
  {
   "cell_type": "code",
   "execution_count": null,
   "metadata": {},
   "outputs": [],
   "source": []
  },
  {
   "cell_type": "code",
   "execution_count": 65,
   "metadata": {},
   "outputs": [],
   "source": [
    "y4=dffinal[['C3_Cancel public events']]"
   ]
  },
  {
   "cell_type": "code",
   "execution_count": 66,
   "metadata": {},
   "outputs": [
    {
     "name": "stdout",
     "output_type": "stream",
     "text": [
      "[0.5993304767005891, 0.5651044456347082, 0.5903320835565078, 0.6011247991430102, 0.6136850562399572, 0.6083824317086234, 0.6066416711301553, 0.6120246384574184, 0.6123192287091591, 0.6100160685591859, 0.6114354579539367, 0.6084092126406, 0.6098286020353509, 0.6132565613283341, 0.6084092126405999, 0.6105784681306909, 0.6154525977504017, 0.6168452062131762, 0.6127477236207819, 0.613979646491698]\n"
     ]
    }
   ],
   "source": [
    "accuracy={}\n",
    "accuracy_list=[]\n",
    "for k in range(1,21):\n",
    "        knn= KNeighborsClassifier(n_neighbors=k)\n",
    "        scores={}\n",
    "        scores_list=[]\n",
    "        for i in range(1,11):\n",
    "                X_train, X_test, y_train, y_test = train_test_split(X1, y4, test_size=0.2)\n",
    "                knn.fit(X_train, y_train)\n",
    "                y_pred = knn.predict(X_test)\n",
    "                scores[i]=accuracy_score(y_test,y_pred)\n",
    "                scores_list.append(scores[i])\n",
    "        accuracy_avg=np.mean(scores_list)\n",
    "        accuracy[k]=accuracy_avg\n",
    "        accuracy_list.append(accuracy[k])\n",
    "print(accuracy_list)"
   ]
  },
  {
   "cell_type": "code",
   "execution_count": 67,
   "metadata": {},
   "outputs": [
    {
     "name": "stdout",
     "output_type": "stream",
     "text": [
      "[0.6580075  0.63862845 0.62362711 0.60782213 0.66032681]\n",
      "0.637682399812555\n"
     ]
    }
   ],
   "source": [
    "\n",
    "cur_score_gnb = cross_val_score(gnb, X1, y4, cv=5)\n",
    "print(cur_score_gnb)\n",
    "print(cur_score_gnb.mean())"
   ]
  },
  {
   "cell_type": "code",
   "execution_count": 68,
   "metadata": {},
   "outputs": [
    {
     "name": "stdout",
     "output_type": "stream",
     "text": [
      "[0.55382967 0.6520225  0.68363247 0.66327351 0.55799625]\n",
      "0.6221508797389085\n"
     ]
    }
   ],
   "source": [
    "dtf = DecisionTreeClassifier()\n",
    "cur_score_dtf = cross_val_score(dtf, X1, y4, cv=5)\n",
    "print(cur_score_dtf)\n",
    "print(cur_score_dtf.mean())\n"
   ]
  },
  {
   "cell_type": "code",
   "execution_count": 69,
   "metadata": {},
   "outputs": [
    {
     "name": "stdout",
     "output_type": "stream",
     "text": [
      "[0.52704874 0.61880525 0.52933298 0.52665417 0.54085186]\n",
      "0.5485385990494887\n"
     ]
    }
   ],
   "source": [
    "cur_score_lr = cross_val_score(logreg, X1, y4, cv=5)\n",
    "print(cur_score_lr)\n",
    "print(cur_score_lr.mean())"
   ]
  },
  {
   "cell_type": "code",
   "execution_count": 70,
   "metadata": {},
   "outputs": [
    {
     "name": "stdout",
     "output_type": "stream",
     "text": [
      "[0.70915908 0.66889901 0.7015805  0.82560943 0.73720868]\n",
      "0.7284913389188998\n"
     ]
    }
   ],
   "source": [
    "lda = LinearDiscriminantAnalysis()\n",
    "\n",
    "cur_score_lda = cross_val_score(lda, X1, y4, cv=5)\n",
    "print(cur_score_lda)\n",
    "print(cur_score_lda.mean())"
   ]
  },
  {
   "cell_type": "code",
   "execution_count": 71,
   "metadata": {},
   "outputs": [
    {
     "name": "stdout",
     "output_type": "stream",
     "text": [
      "[0.55918586 0.52343959 0.57621216 0.57353335 0.56388963]\n",
      "0.5592521196967765\n"
     ]
    }
   ],
   "source": [
    "cur_score_svm = cross_val_score(svm, X1, y4, cv=5)\n",
    "print(cur_score_svm)\n",
    "print(cur_score_svm.mean())"
   ]
  },
  {
   "cell_type": "code",
   "execution_count": null,
   "metadata": {},
   "outputs": [],
   "source": []
  },
  {
   "cell_type": "code",
   "execution_count": null,
   "metadata": {},
   "outputs": [],
   "source": []
  },
  {
   "cell_type": "code",
   "execution_count": 73,
   "metadata": {},
   "outputs": [],
   "source": [
    "y5=dffinal[['C4_Restrictions on gatherings']]"
   ]
  },
  {
   "cell_type": "code",
   "execution_count": 75,
   "metadata": {},
   "outputs": [
    {
     "name": "stdout",
     "output_type": "stream",
     "text": [
      "[0.4743170862346009, 0.4086234600964113, 0.4546598821638993, 0.4706480985538296, 0.4867702196036422, 0.47731655061596145, 0.4878414568826995, 0.4839314408141403, 0.48730583824317086, 0.48963577932512053, 0.48875200856989826, 0.49408141403320843, 0.4854311730048205, 0.4906534547402249, 0.48626138189609003, 0.4888323513658275, 0.4895822174611677, 0.4859935725763257, 0.4894483128012855, 0.48596679164434925]\n"
     ]
    }
   ],
   "source": [
    "accuracy={}\n",
    "accuracy_list=[]\n",
    "for k in range(1,21):\n",
    "        knn= KNeighborsClassifier(n_neighbors=k)\n",
    "        scores={}\n",
    "        scores_list=[]\n",
    "        for i in range(1,11):\n",
    "                X_train, X_test, y_train, y_test = train_test_split(X1, y5, test_size=0.2)\n",
    "                knn.fit(X_train, y_train)\n",
    "                y_pred = knn.predict(X_test)\n",
    "                scores[i]=accuracy_score(y_test,y_pred)\n",
    "                scores_list.append(scores[i])\n",
    "        accuracy_avg=np.mean(scores_list)\n",
    "        accuracy[k]=accuracy_avg\n",
    "        accuracy_list.append(accuracy[k])\n",
    "print(accuracy_list)"
   ]
  },
  {
   "cell_type": "code",
   "execution_count": 76,
   "metadata": {},
   "outputs": [
    {
     "name": "stdout",
     "output_type": "stream",
     "text": [
      "[0.51071237 0.53094026 0.60889365 0.46236271 0.55933565]\n",
      "0.5344489304916801\n"
     ]
    }
   ],
   "source": [
    "\n",
    "cur_score_gnb = cross_val_score(gnb, X1, y5, cv=5)\n",
    "print(cur_score_gnb)\n",
    "print(cur_score_gnb.mean())"
   ]
  },
  {
   "cell_type": "code",
   "execution_count": 77,
   "metadata": {},
   "outputs": [
    {
     "name": "stdout",
     "output_type": "stream",
     "text": [
      "[0.52169255 0.55478168 0.63112778 0.51272435 0.55263863]\n",
      "0.5545929979879507\n"
     ]
    }
   ],
   "source": [
    "dtf = DecisionTreeClassifier()\n",
    "cur_score_dtf = cross_val_score(dtf, X1, y5, cv=5)\n",
    "print(cur_score_dtf)\n",
    "print(cur_score_dtf.mean())\n"
   ]
  },
  {
   "cell_type": "code",
   "execution_count": 78,
   "metadata": {},
   "outputs": [
    {
     "name": "stdout",
     "output_type": "stream",
     "text": [
      "[0.45715051 0.45780873 0.45780873 0.45727297 0.44655773]\n",
      "0.45531973477048815\n"
     ]
    }
   ],
   "source": [
    "cur_score_lr = cross_val_score(logreg, X1, y5, cv=5)\n",
    "print(cur_score_lr)\n",
    "print(cur_score_lr.mean())"
   ]
  },
  {
   "cell_type": "code",
   "execution_count": 79,
   "metadata": {},
   "outputs": [
    {
     "name": "stdout",
     "output_type": "stream",
     "text": [
      "[0.57150509 0.57433699 0.59067774 0.51942138 0.67854273]\n",
      "0.5868967851546543\n"
     ]
    }
   ],
   "source": [
    "lda = LinearDiscriminantAnalysis()\n",
    "\n",
    "cur_score_lda = cross_val_score(lda, X1, y5, cv=5)\n",
    "print(cur_score_lda)\n",
    "print(cur_score_lda.mean())"
   ]
  },
  {
   "cell_type": "code",
   "execution_count": 80,
   "metadata": {},
   "outputs": [
    {
     "name": "stdout",
     "output_type": "stream",
     "text": [
      "[0.45741832 0.45780873 0.45780873 0.45780873 0.45754085]\n",
      "0.45767707375739847\n"
     ]
    }
   ],
   "source": [
    "cur_score_svm = cross_val_score(svm, X1, y5, cv=5)\n",
    "print(cur_score_svm)\n",
    "print(cur_score_svm.mean())"
   ]
  },
  {
   "cell_type": "code",
   "execution_count": null,
   "metadata": {},
   "outputs": [],
   "source": []
  },
  {
   "cell_type": "code",
   "execution_count": null,
   "metadata": {},
   "outputs": [],
   "source": []
  },
  {
   "cell_type": "code",
   "execution_count": null,
   "metadata": {},
   "outputs": [],
   "source": []
  },
  {
   "cell_type": "code",
   "execution_count": null,
   "metadata": {},
   "outputs": [],
   "source": []
  },
  {
   "cell_type": "code",
   "execution_count": 81,
   "metadata": {},
   "outputs": [],
   "source": [
    "y6=dffinal[['C5_Close public transport']]\n"
   ]
  },
  {
   "cell_type": "code",
   "execution_count": 82,
   "metadata": {},
   "outputs": [
    {
     "name": "stdout",
     "output_type": "stream",
     "text": [
      "[0.5169523299410819, 0.5336904124263525, 0.5293519014461704, 0.5367702196036422, 0.5280128548473486, 0.5328066416711301, 0.5257900374933048, 0.5332083556507767, 0.5288162828066417, 0.5305570433851099, 0.5256561328334226, 0.5337439742903054, 0.534092126405999, 0.5284413497589716, 0.5273433315479379, 0.527664702731655, 0.5281735404392074, 0.5283342260310658, 0.5308248527048741, 0.5307980717728976]\n"
     ]
    }
   ],
   "source": [
    "accuracy={}\n",
    "accuracy_list=[]\n",
    "for k in range(1,21):\n",
    "        knn= KNeighborsClassifier(n_neighbors=k)\n",
    "        scores={}\n",
    "        scores_list=[]\n",
    "        for i in range(1,11):\n",
    "                X_train, X_test, y_train, y_test = train_test_split(X1, y6, test_size=0.2)\n",
    "                knn.fit(X_train, y_train)\n",
    "                y_pred = knn.predict(X_test)\n",
    "                scores[i]=accuracy_score(y_test,y_pred)\n",
    "                scores_list.append(scores[i])\n",
    "        accuracy_avg=np.mean(scores_list)\n",
    "        accuracy[k]=accuracy_avg\n",
    "        accuracy_list.append(accuracy[k])\n",
    "print(accuracy_list)"
   ]
  },
  {
   "cell_type": "code",
   "execution_count": 83,
   "metadata": {},
   "outputs": [
    {
     "name": "stdout",
     "output_type": "stream",
     "text": [
      "[0.53053026 0.38949906 0.59791053 0.51888561 0.43450308]\n",
      "0.49426570960286886\n"
     ]
    }
   ],
   "source": [
    "cur_score_gnb = cross_val_score(gnb, X1, y6, cv=5)\n",
    "print(cur_score_gnb)\n",
    "print(cur_score_gnb.mean())"
   ]
  },
  {
   "cell_type": "code",
   "execution_count": 84,
   "metadata": {},
   "outputs": [
    {
     "name": "stdout",
     "output_type": "stream",
     "text": [
      "[0.43652919 0.50120546 0.63434235 0.47361372 0.52718993]\n",
      "0.5145761302335272\n"
     ]
    }
   ],
   "source": [
    "dtf = DecisionTreeClassifier()\n",
    "cur_score_dtf = cross_val_score(dtf, X1, y6, cv=5)\n",
    "print(cur_score_dtf)\n",
    "print(cur_score_dtf.mean())"
   ]
  },
  {
   "cell_type": "code",
   "execution_count": 85,
   "metadata": {},
   "outputs": [
    {
     "name": "stdout",
     "output_type": "stream",
     "text": [
      "[0.52678093 0.53281543 0.54272703 0.39137423 0.38762389]\n",
      "0.47626430319142904\n"
     ]
    }
   ],
   "source": [
    "cur_score_lr = cross_val_score(logreg, X1, y6, cv=5)\n",
    "print(cur_score_lr)\n",
    "print(cur_score_lr.mean())"
   ]
  },
  {
   "cell_type": "code",
   "execution_count": 86,
   "metadata": {},
   "outputs": [
    {
     "name": "stdout",
     "output_type": "stream",
     "text": [
      "[0.54070702 0.65711224 0.66675596 0.52986874 0.46986338]\n",
      "0.5728614676122902\n"
     ]
    }
   ],
   "source": [
    "lda = LinearDiscriminantAnalysis()\n",
    "\n",
    "cur_score_lda = cross_val_score(lda, X1, y6, cv=5)\n",
    "print(cur_score_lda)\n",
    "print(cur_score_lda.mean())"
   ]
  },
  {
   "cell_type": "code",
   "execution_count": 87,
   "metadata": {},
   "outputs": [
    {
     "name": "stdout",
     "output_type": "stream",
     "text": [
      "[0.49732191 0.48834717 0.57353335 0.53335119 0.55371015]\n",
      "0.5292527553224322\n"
     ]
    }
   ],
   "source": [
    "cur_score_svm = cross_val_score(svm, X1, y6, cv=5)\n",
    "print(cur_score_svm)\n",
    "print(cur_score_svm.mean())"
   ]
  },
  {
   "cell_type": "code",
   "execution_count": null,
   "metadata": {},
   "outputs": [],
   "source": []
  },
  {
   "cell_type": "code",
   "execution_count": 88,
   "metadata": {},
   "outputs": [],
   "source": [
    "y7=dffinal[['C7_Restrictions on internal movement']]"
   ]
  },
  {
   "cell_type": "code",
   "execution_count": 89,
   "metadata": {},
   "outputs": [
    {
     "name": "stdout",
     "output_type": "stream",
     "text": [
      "[0.47584359935725756, 0.4901446170326727, 0.4812801285484736, 0.48136047134440274, 0.48299410819496524, 0.4806641671130155, 0.474692019282271, 0.47737011247991423, 0.4764327798607392, 0.46984467059453666, 0.4750937332619175, 0.47546866630958756, 0.47356722013926084, 0.4754418853776111, 0.47104981253347616, 0.47354043920728445, 0.47512051419389395, 0.47233529726834494, 0.47110337439742905, 0.4701928227102303]\n"
     ]
    }
   ],
   "source": [
    "accuracy={}\n",
    "accuracy_list=[]\n",
    "for k in range(1,21):\n",
    "        knn= KNeighborsClassifier(n_neighbors=k)\n",
    "        scores={}\n",
    "        scores_list=[]\n",
    "        for i in range(1,11):\n",
    "                X_train, X_test, y_train, y_test = train_test_split(X1, y7, test_size=0.2)\n",
    "                knn.fit(X_train, y_train)\n",
    "                y_pred = knn.predict(X_test)\n",
    "                scores[i]=accuracy_score(y_test,y_pred)\n",
    "                scores_list.append(scores[i])\n",
    "        accuracy_avg=np.mean(scores_list)\n",
    "        accuracy[k]=accuracy_avg\n",
    "        accuracy_list.append(accuracy[k])\n",
    "print(accuracy_list)"
   ]
  },
  {
   "cell_type": "code",
   "execution_count": 91,
   "metadata": {},
   "outputs": [
    {
     "name": "stdout",
     "output_type": "stream",
     "text": [
      "[0.53963578 0.58960621 0.61719796 0.7128315  0.60594696]\n",
      "0.613043684126476\n"
     ]
    }
   ],
   "source": [
    "cur_score_gnb = cross_val_score(gnb, X1, y7, cv=5)\n",
    "print(cur_score_gnb)\n",
    "print(cur_score_gnb.mean())"
   ]
  },
  {
   "cell_type": "code",
   "execution_count": 92,
   "metadata": {},
   "outputs": [
    {
     "name": "stdout",
     "output_type": "stream",
     "text": [
      "[0.54418854 0.4950442  0.59871417 0.5898741  0.4907581 ]\n",
      "0.5437158216695547\n"
     ]
    }
   ],
   "source": [
    "dtf = DecisionTreeClassifier()\n",
    "cur_score_dtf = cross_val_score(dtf, X1, y7, cv=5)\n",
    "print(cur_score_dtf)\n",
    "print(cur_score_dtf.mean())"
   ]
  },
  {
   "cell_type": "code",
   "execution_count": 93,
   "metadata": {},
   "outputs": [
    {
     "name": "stdout",
     "output_type": "stream",
     "text": [
      "[0.33636851 0.33136887 0.41575141 0.42780605 0.41601929]\n",
      "0.3854628251537303\n"
     ]
    }
   ],
   "source": [
    "cur_score_lr = cross_val_score(logreg, X1, y7, cv=5)\n",
    "print(cur_score_lr)\n",
    "print(cur_score_lr.mean())"
   ]
  },
  {
   "cell_type": "code",
   "execution_count": 94,
   "metadata": {},
   "outputs": [
    {
     "name": "stdout",
     "output_type": "stream",
     "text": [
      "[0.55543653 0.59255291 0.54272703 0.68497187 0.48861505]\n",
      "0.5728606784607988\n"
     ]
    }
   ],
   "source": [
    "lda = LinearDiscriminantAnalysis()\n",
    "\n",
    "cur_score_lda = cross_val_score(lda, X1, y7, cv=5)\n",
    "print(cur_score_lda)\n",
    "print(cur_score_lda.mean())"
   ]
  },
  {
   "cell_type": "code",
   "execution_count": 95,
   "metadata": {},
   "outputs": [
    {
     "name": "stdout",
     "output_type": "stream",
     "text": [
      "[0.35565078 0.40825074 0.42941334 0.42780605 0.4355746 ]\n",
      "0.41133910255683653\n"
     ]
    }
   ],
   "source": [
    "cur_score_svm = cross_val_score(svm, X1, y7, cv=5)\n",
    "print(cur_score_svm)\n",
    "print(cur_score_svm.mean())"
   ]
  },
  {
   "cell_type": "code",
   "execution_count": null,
   "metadata": {},
   "outputs": [],
   "source": []
  },
  {
   "cell_type": "code",
   "execution_count": 90,
   "metadata": {},
   "outputs": [],
   "source": [
    "y8=dffinal[['C8_International travel controls']]"
   ]
  },
  {
   "cell_type": "code",
   "execution_count": 96,
   "metadata": {},
   "outputs": [
    {
     "name": "stdout",
     "output_type": "stream",
     "text": [
      "[0.5666577396893413, 0.6396357793251205, 0.624317086234601, 0.6336100696304233, 0.638243170862346, 0.6456882699517943, 0.6476700589180504, 0.6449919657204072, 0.6519282271023032, 0.6532404927691484, 0.6553829673272629, 0.655998928762721, 0.6532672737011247, 0.6556507766470272, 0.6556239957150509, 0.6621049812533477, 0.6565881092662024, 0.6573111944295662, 0.6636582753079807, 0.6596679164434922]\n"
     ]
    }
   ],
   "source": [
    "accuracy={}\n",
    "accuracy_list=[]\n",
    "for k in range(1,21):\n",
    "        knn= KNeighborsClassifier(n_neighbors=k)\n",
    "        scores={}\n",
    "        scores_list=[]\n",
    "        for i in range(1,11):\n",
    "                X_train, X_test, y_train, y_test = train_test_split(X1, y8, test_size=0.2)\n",
    "                knn.fit(X_train, y_train)\n",
    "                y_pred = knn.predict(X_test)\n",
    "                scores[i]=accuracy_score(y_test,y_pred)\n",
    "                scores_list.append(scores[i])\n",
    "        accuracy_avg=np.mean(scores_list)\n",
    "        accuracy[k]=accuracy_avg\n",
    "        accuracy_list.append(accuracy[k])\n",
    "print(accuracy_list)"
   ]
  },
  {
   "cell_type": "code",
   "execution_count": 97,
   "metadata": {},
   "outputs": [
    {
     "name": "stdout",
     "output_type": "stream",
     "text": [
      "[0.57418318 0.6520225  0.67961425 0.72033217 0.61505492]\n",
      "0.6482414045978262\n"
     ]
    }
   ],
   "source": [
    "cur_score_gnb = cross_val_score(gnb, X1, y8, cv=5)\n",
    "print(cur_score_gnb)\n",
    "print(cur_score_gnb.mean())"
   ]
  },
  {
   "cell_type": "code",
   "execution_count": 98,
   "metadata": {},
   "outputs": [
    {
     "name": "stdout",
     "output_type": "stream",
     "text": [
      "[0.61944296 0.56710421 0.5657648  0.61907313 0.57380123]\n",
      "0.589037265311727\n"
     ]
    }
   ],
   "source": [
    "dtf = DecisionTreeClassifier()\n",
    "cur_score_dtf = cross_val_score(dtf, X1, y8, cv=5)\n",
    "print(cur_score_dtf)\n",
    "print(cur_score_dtf.mean())"
   ]
  },
  {
   "cell_type": "code",
   "execution_count": 99,
   "metadata": {},
   "outputs": [
    {
     "name": "stdout",
     "output_type": "stream",
     "text": [
      "[0.65211569 0.65229038 0.6520225  0.6520225  0.6520225 ]\n",
      "0.6520947165446758\n"
     ]
    }
   ],
   "source": [
    "cur_score_lr = cross_val_score(logreg, X1, y8, cv=5)\n",
    "print(cur_score_lr)\n",
    "print(cur_score_lr.mean())"
   ]
  },
  {
   "cell_type": "code",
   "execution_count": 100,
   "metadata": {},
   "outputs": [
    {
     "name": "stdout",
     "output_type": "stream",
     "text": [
      "[0.55543653 0.59255291 0.54272703 0.68497187 0.48861505]\n",
      "0.5728606784607988\n"
     ]
    }
   ],
   "source": [
    "lda = LinearDiscriminantAnalysis()\n",
    "\n",
    "cur_score_lda = cross_val_score(lda, X1, y7, cv=5)\n",
    "print(cur_score_lda)\n",
    "print(cur_score_lda.mean())"
   ]
  },
  {
   "cell_type": "code",
   "execution_count": 101,
   "metadata": {},
   "outputs": [
    {
     "name": "stdout",
     "output_type": "stream",
     "text": [
      "[0.35565078 0.40825074 0.42941334 0.42780605 0.4355746 ]\n",
      "0.41133910255683653\n"
     ]
    }
   ],
   "source": [
    "cur_score_svm = cross_val_score(svm, X1, y7, cv=5)\n",
    "print(cur_score_svm)\n",
    "print(cur_score_svm.mean())"
   ]
  },
  {
   "cell_type": "code",
   "execution_count": null,
   "metadata": {},
   "outputs": [],
   "source": []
  },
  {
   "cell_type": "code",
   "execution_count": null,
   "metadata": {},
   "outputs": [],
   "source": []
  }
 ],
 "metadata": {
  "kernelspec": {
   "display_name": "Python 3",
   "language": "python",
   "name": "python3"
  },
  "language_info": {
   "codemirror_mode": {
    "name": "ipython",
    "version": 3
   },
   "file_extension": ".py",
   "mimetype": "text/x-python",
   "name": "python",
   "nbconvert_exporter": "python",
   "pygments_lexer": "ipython3",
   "version": "3.8.5"
  }
 },
 "nbformat": 4,
 "nbformat_minor": 4
}
